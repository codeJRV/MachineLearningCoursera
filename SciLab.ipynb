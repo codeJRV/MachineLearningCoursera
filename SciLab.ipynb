{
 "cells": [
  {
   "cell_type": "code",
   "execution_count": 1,
   "metadata": {
    "collapsed": false
   },
   "outputs": [
    {
     "name": "stderr",
     "output_type": "stream",
     "text": [
      "[INFO] This non-commercial license of GraphLab Create is assigned to email.jrv@gmail.com and will expire on January 20, 2017. For commercial licensing options, visit https://dato.com/buy/.\n",
      "\n",
      "[INFO] Start server at: ipc:///tmp/graphlab_server-4618 - Server binary: /home/jrv/anaconda2/envs/dato-env/lib/python2.7/site-packages/graphlab/unity_server - Server log: /tmp/graphlab_server_1453639022.log\n",
      "[INFO] GraphLab Server Version: 1.8\n"
     ]
    }
   ],
   "source": [
    "import graphlab\n",
    "\n",
    "sales = graphlab.SFrame('home_data.gl/')\n",
    "\n"
   ]
  },
  {
   "cell_type": "code",
   "execution_count": 3,
   "metadata": {
    "collapsed": false
   },
   "outputs": [
    {
     "data": {
      "text/html": [
       "<div style=\"max-height:1000px;max-width:1500px;overflow:auto;\"><table frame=\"box\" rules=\"cols\">\n",
       "    <tr>\n",
       "        <th style=\"padding-left: 1em; padding-right: 1em; text-align: center\">id</th>\n",
       "        <th style=\"padding-left: 1em; padding-right: 1em; text-align: center\">date</th>\n",
       "        <th style=\"padding-left: 1em; padding-right: 1em; text-align: center\">price</th>\n",
       "        <th style=\"padding-left: 1em; padding-right: 1em; text-align: center\">bedrooms</th>\n",
       "        <th style=\"padding-left: 1em; padding-right: 1em; text-align: center\">bathrooms</th>\n",
       "        <th style=\"padding-left: 1em; padding-right: 1em; text-align: center\">sqft_living</th>\n",
       "        <th style=\"padding-left: 1em; padding-right: 1em; text-align: center\">sqft_lot</th>\n",
       "        <th style=\"padding-left: 1em; padding-right: 1em; text-align: center\">floors</th>\n",
       "        <th style=\"padding-left: 1em; padding-right: 1em; text-align: center\">waterfront</th>\n",
       "    </tr>\n",
       "    <tr>\n",
       "        <td style=\"padding-left: 1em; padding-right: 1em; text-align: center; vertical-align: top\">7129300520</td>\n",
       "        <td style=\"padding-left: 1em; padding-right: 1em; text-align: center; vertical-align: top\">2014-10-13 00:00:00+00:00</td>\n",
       "        <td style=\"padding-left: 1em; padding-right: 1em; text-align: center; vertical-align: top\">221900</td>\n",
       "        <td style=\"padding-left: 1em; padding-right: 1em; text-align: center; vertical-align: top\">3</td>\n",
       "        <td style=\"padding-left: 1em; padding-right: 1em; text-align: center; vertical-align: top\">1</td>\n",
       "        <td style=\"padding-left: 1em; padding-right: 1em; text-align: center; vertical-align: top\">1180</td>\n",
       "        <td style=\"padding-left: 1em; padding-right: 1em; text-align: center; vertical-align: top\">5650</td>\n",
       "        <td style=\"padding-left: 1em; padding-right: 1em; text-align: center; vertical-align: top\">1</td>\n",
       "        <td style=\"padding-left: 1em; padding-right: 1em; text-align: center; vertical-align: top\">0</td>\n",
       "    </tr>\n",
       "    <tr>\n",
       "        <td style=\"padding-left: 1em; padding-right: 1em; text-align: center; vertical-align: top\">6414100192</td>\n",
       "        <td style=\"padding-left: 1em; padding-right: 1em; text-align: center; vertical-align: top\">2014-12-09 00:00:00+00:00</td>\n",
       "        <td style=\"padding-left: 1em; padding-right: 1em; text-align: center; vertical-align: top\">538000</td>\n",
       "        <td style=\"padding-left: 1em; padding-right: 1em; text-align: center; vertical-align: top\">3</td>\n",
       "        <td style=\"padding-left: 1em; padding-right: 1em; text-align: center; vertical-align: top\">2.25</td>\n",
       "        <td style=\"padding-left: 1em; padding-right: 1em; text-align: center; vertical-align: top\">2570</td>\n",
       "        <td style=\"padding-left: 1em; padding-right: 1em; text-align: center; vertical-align: top\">7242</td>\n",
       "        <td style=\"padding-left: 1em; padding-right: 1em; text-align: center; vertical-align: top\">2</td>\n",
       "        <td style=\"padding-left: 1em; padding-right: 1em; text-align: center; vertical-align: top\">0</td>\n",
       "    </tr>\n",
       "    <tr>\n",
       "        <td style=\"padding-left: 1em; padding-right: 1em; text-align: center; vertical-align: top\">5631500400</td>\n",
       "        <td style=\"padding-left: 1em; padding-right: 1em; text-align: center; vertical-align: top\">2015-02-25 00:00:00+00:00</td>\n",
       "        <td style=\"padding-left: 1em; padding-right: 1em; text-align: center; vertical-align: top\">180000</td>\n",
       "        <td style=\"padding-left: 1em; padding-right: 1em; text-align: center; vertical-align: top\">2</td>\n",
       "        <td style=\"padding-left: 1em; padding-right: 1em; text-align: center; vertical-align: top\">1</td>\n",
       "        <td style=\"padding-left: 1em; padding-right: 1em; text-align: center; vertical-align: top\">770</td>\n",
       "        <td style=\"padding-left: 1em; padding-right: 1em; text-align: center; vertical-align: top\">10000</td>\n",
       "        <td style=\"padding-left: 1em; padding-right: 1em; text-align: center; vertical-align: top\">1</td>\n",
       "        <td style=\"padding-left: 1em; padding-right: 1em; text-align: center; vertical-align: top\">0</td>\n",
       "    </tr>\n",
       "    <tr>\n",
       "        <td style=\"padding-left: 1em; padding-right: 1em; text-align: center; vertical-align: top\">2487200875</td>\n",
       "        <td style=\"padding-left: 1em; padding-right: 1em; text-align: center; vertical-align: top\">2014-12-09 00:00:00+00:00</td>\n",
       "        <td style=\"padding-left: 1em; padding-right: 1em; text-align: center; vertical-align: top\">604000</td>\n",
       "        <td style=\"padding-left: 1em; padding-right: 1em; text-align: center; vertical-align: top\">4</td>\n",
       "        <td style=\"padding-left: 1em; padding-right: 1em; text-align: center; vertical-align: top\">3</td>\n",
       "        <td style=\"padding-left: 1em; padding-right: 1em; text-align: center; vertical-align: top\">1960</td>\n",
       "        <td style=\"padding-left: 1em; padding-right: 1em; text-align: center; vertical-align: top\">5000</td>\n",
       "        <td style=\"padding-left: 1em; padding-right: 1em; text-align: center; vertical-align: top\">1</td>\n",
       "        <td style=\"padding-left: 1em; padding-right: 1em; text-align: center; vertical-align: top\">0</td>\n",
       "    </tr>\n",
       "    <tr>\n",
       "        <td style=\"padding-left: 1em; padding-right: 1em; text-align: center; vertical-align: top\">1954400510</td>\n",
       "        <td style=\"padding-left: 1em; padding-right: 1em; text-align: center; vertical-align: top\">2015-02-18 00:00:00+00:00</td>\n",
       "        <td style=\"padding-left: 1em; padding-right: 1em; text-align: center; vertical-align: top\">510000</td>\n",
       "        <td style=\"padding-left: 1em; padding-right: 1em; text-align: center; vertical-align: top\">3</td>\n",
       "        <td style=\"padding-left: 1em; padding-right: 1em; text-align: center; vertical-align: top\">2</td>\n",
       "        <td style=\"padding-left: 1em; padding-right: 1em; text-align: center; vertical-align: top\">1680</td>\n",
       "        <td style=\"padding-left: 1em; padding-right: 1em; text-align: center; vertical-align: top\">8080</td>\n",
       "        <td style=\"padding-left: 1em; padding-right: 1em; text-align: center; vertical-align: top\">1</td>\n",
       "        <td style=\"padding-left: 1em; padding-right: 1em; text-align: center; vertical-align: top\">0</td>\n",
       "    </tr>\n",
       "    <tr>\n",
       "        <td style=\"padding-left: 1em; padding-right: 1em; text-align: center; vertical-align: top\">7237550310</td>\n",
       "        <td style=\"padding-left: 1em; padding-right: 1em; text-align: center; vertical-align: top\">2014-05-12 00:00:00+00:00</td>\n",
       "        <td style=\"padding-left: 1em; padding-right: 1em; text-align: center; vertical-align: top\">1225000</td>\n",
       "        <td style=\"padding-left: 1em; padding-right: 1em; text-align: center; vertical-align: top\">4</td>\n",
       "        <td style=\"padding-left: 1em; padding-right: 1em; text-align: center; vertical-align: top\">4.5</td>\n",
       "        <td style=\"padding-left: 1em; padding-right: 1em; text-align: center; vertical-align: top\">5420</td>\n",
       "        <td style=\"padding-left: 1em; padding-right: 1em; text-align: center; vertical-align: top\">101930</td>\n",
       "        <td style=\"padding-left: 1em; padding-right: 1em; text-align: center; vertical-align: top\">1</td>\n",
       "        <td style=\"padding-left: 1em; padding-right: 1em; text-align: center; vertical-align: top\">0</td>\n",
       "    </tr>\n",
       "    <tr>\n",
       "        <td style=\"padding-left: 1em; padding-right: 1em; text-align: center; vertical-align: top\">1321400060</td>\n",
       "        <td style=\"padding-left: 1em; padding-right: 1em; text-align: center; vertical-align: top\">2014-06-27 00:00:00+00:00</td>\n",
       "        <td style=\"padding-left: 1em; padding-right: 1em; text-align: center; vertical-align: top\">257500</td>\n",
       "        <td style=\"padding-left: 1em; padding-right: 1em; text-align: center; vertical-align: top\">3</td>\n",
       "        <td style=\"padding-left: 1em; padding-right: 1em; text-align: center; vertical-align: top\">2.25</td>\n",
       "        <td style=\"padding-left: 1em; padding-right: 1em; text-align: center; vertical-align: top\">1715</td>\n",
       "        <td style=\"padding-left: 1em; padding-right: 1em; text-align: center; vertical-align: top\">6819</td>\n",
       "        <td style=\"padding-left: 1em; padding-right: 1em; text-align: center; vertical-align: top\">2</td>\n",
       "        <td style=\"padding-left: 1em; padding-right: 1em; text-align: center; vertical-align: top\">0</td>\n",
       "    </tr>\n",
       "    <tr>\n",
       "        <td style=\"padding-left: 1em; padding-right: 1em; text-align: center; vertical-align: top\">2008000270</td>\n",
       "        <td style=\"padding-left: 1em; padding-right: 1em; text-align: center; vertical-align: top\">2015-01-15 00:00:00+00:00</td>\n",
       "        <td style=\"padding-left: 1em; padding-right: 1em; text-align: center; vertical-align: top\">291850</td>\n",
       "        <td style=\"padding-left: 1em; padding-right: 1em; text-align: center; vertical-align: top\">3</td>\n",
       "        <td style=\"padding-left: 1em; padding-right: 1em; text-align: center; vertical-align: top\">1.5</td>\n",
       "        <td style=\"padding-left: 1em; padding-right: 1em; text-align: center; vertical-align: top\">1060</td>\n",
       "        <td style=\"padding-left: 1em; padding-right: 1em; text-align: center; vertical-align: top\">9711</td>\n",
       "        <td style=\"padding-left: 1em; padding-right: 1em; text-align: center; vertical-align: top\">1</td>\n",
       "        <td style=\"padding-left: 1em; padding-right: 1em; text-align: center; vertical-align: top\">0</td>\n",
       "    </tr>\n",
       "    <tr>\n",
       "        <td style=\"padding-left: 1em; padding-right: 1em; text-align: center; vertical-align: top\">2414600126</td>\n",
       "        <td style=\"padding-left: 1em; padding-right: 1em; text-align: center; vertical-align: top\">2015-04-15 00:00:00+00:00</td>\n",
       "        <td style=\"padding-left: 1em; padding-right: 1em; text-align: center; vertical-align: top\">229500</td>\n",
       "        <td style=\"padding-left: 1em; padding-right: 1em; text-align: center; vertical-align: top\">3</td>\n",
       "        <td style=\"padding-left: 1em; padding-right: 1em; text-align: center; vertical-align: top\">1</td>\n",
       "        <td style=\"padding-left: 1em; padding-right: 1em; text-align: center; vertical-align: top\">1780</td>\n",
       "        <td style=\"padding-left: 1em; padding-right: 1em; text-align: center; vertical-align: top\">7470</td>\n",
       "        <td style=\"padding-left: 1em; padding-right: 1em; text-align: center; vertical-align: top\">1</td>\n",
       "        <td style=\"padding-left: 1em; padding-right: 1em; text-align: center; vertical-align: top\">0</td>\n",
       "    </tr>\n",
       "    <tr>\n",
       "        <td style=\"padding-left: 1em; padding-right: 1em; text-align: center; vertical-align: top\">3793500160</td>\n",
       "        <td style=\"padding-left: 1em; padding-right: 1em; text-align: center; vertical-align: top\">2015-03-12 00:00:00+00:00</td>\n",
       "        <td style=\"padding-left: 1em; padding-right: 1em; text-align: center; vertical-align: top\">323000</td>\n",
       "        <td style=\"padding-left: 1em; padding-right: 1em; text-align: center; vertical-align: top\">3</td>\n",
       "        <td style=\"padding-left: 1em; padding-right: 1em; text-align: center; vertical-align: top\">2.5</td>\n",
       "        <td style=\"padding-left: 1em; padding-right: 1em; text-align: center; vertical-align: top\">1890</td>\n",
       "        <td style=\"padding-left: 1em; padding-right: 1em; text-align: center; vertical-align: top\">6560</td>\n",
       "        <td style=\"padding-left: 1em; padding-right: 1em; text-align: center; vertical-align: top\">2</td>\n",
       "        <td style=\"padding-left: 1em; padding-right: 1em; text-align: center; vertical-align: top\">0</td>\n",
       "    </tr>\n",
       "</table>\n",
       "<table frame=\"box\" rules=\"cols\">\n",
       "    <tr>\n",
       "        <th style=\"padding-left: 1em; padding-right: 1em; text-align: center\">view</th>\n",
       "        <th style=\"padding-left: 1em; padding-right: 1em; text-align: center\">condition</th>\n",
       "        <th style=\"padding-left: 1em; padding-right: 1em; text-align: center\">grade</th>\n",
       "        <th style=\"padding-left: 1em; padding-right: 1em; text-align: center\">sqft_above</th>\n",
       "        <th style=\"padding-left: 1em; padding-right: 1em; text-align: center\">sqft_basement</th>\n",
       "        <th style=\"padding-left: 1em; padding-right: 1em; text-align: center\">yr_built</th>\n",
       "        <th style=\"padding-left: 1em; padding-right: 1em; text-align: center\">yr_renovated</th>\n",
       "        <th style=\"padding-left: 1em; padding-right: 1em; text-align: center\">zipcode</th>\n",
       "        <th style=\"padding-left: 1em; padding-right: 1em; text-align: center\">lat</th>\n",
       "    </tr>\n",
       "    <tr>\n",
       "        <td style=\"padding-left: 1em; padding-right: 1em; text-align: center; vertical-align: top\">0</td>\n",
       "        <td style=\"padding-left: 1em; padding-right: 1em; text-align: center; vertical-align: top\">3</td>\n",
       "        <td style=\"padding-left: 1em; padding-right: 1em; text-align: center; vertical-align: top\">7</td>\n",
       "        <td style=\"padding-left: 1em; padding-right: 1em; text-align: center; vertical-align: top\">1180</td>\n",
       "        <td style=\"padding-left: 1em; padding-right: 1em; text-align: center; vertical-align: top\">0</td>\n",
       "        <td style=\"padding-left: 1em; padding-right: 1em; text-align: center; vertical-align: top\">1955</td>\n",
       "        <td style=\"padding-left: 1em; padding-right: 1em; text-align: center; vertical-align: top\">0</td>\n",
       "        <td style=\"padding-left: 1em; padding-right: 1em; text-align: center; vertical-align: top\">98178</td>\n",
       "        <td style=\"padding-left: 1em; padding-right: 1em; text-align: center; vertical-align: top\">47.51123398</td>\n",
       "    </tr>\n",
       "    <tr>\n",
       "        <td style=\"padding-left: 1em; padding-right: 1em; text-align: center; vertical-align: top\">0</td>\n",
       "        <td style=\"padding-left: 1em; padding-right: 1em; text-align: center; vertical-align: top\">3</td>\n",
       "        <td style=\"padding-left: 1em; padding-right: 1em; text-align: center; vertical-align: top\">7</td>\n",
       "        <td style=\"padding-left: 1em; padding-right: 1em; text-align: center; vertical-align: top\">2170</td>\n",
       "        <td style=\"padding-left: 1em; padding-right: 1em; text-align: center; vertical-align: top\">400</td>\n",
       "        <td style=\"padding-left: 1em; padding-right: 1em; text-align: center; vertical-align: top\">1951</td>\n",
       "        <td style=\"padding-left: 1em; padding-right: 1em; text-align: center; vertical-align: top\">1991</td>\n",
       "        <td style=\"padding-left: 1em; padding-right: 1em; text-align: center; vertical-align: top\">98125</td>\n",
       "        <td style=\"padding-left: 1em; padding-right: 1em; text-align: center; vertical-align: top\">47.72102274</td>\n",
       "    </tr>\n",
       "    <tr>\n",
       "        <td style=\"padding-left: 1em; padding-right: 1em; text-align: center; vertical-align: top\">0</td>\n",
       "        <td style=\"padding-left: 1em; padding-right: 1em; text-align: center; vertical-align: top\">3</td>\n",
       "        <td style=\"padding-left: 1em; padding-right: 1em; text-align: center; vertical-align: top\">6</td>\n",
       "        <td style=\"padding-left: 1em; padding-right: 1em; text-align: center; vertical-align: top\">770</td>\n",
       "        <td style=\"padding-left: 1em; padding-right: 1em; text-align: center; vertical-align: top\">0</td>\n",
       "        <td style=\"padding-left: 1em; padding-right: 1em; text-align: center; vertical-align: top\">1933</td>\n",
       "        <td style=\"padding-left: 1em; padding-right: 1em; text-align: center; vertical-align: top\">0</td>\n",
       "        <td style=\"padding-left: 1em; padding-right: 1em; text-align: center; vertical-align: top\">98028</td>\n",
       "        <td style=\"padding-left: 1em; padding-right: 1em; text-align: center; vertical-align: top\">47.73792661</td>\n",
       "    </tr>\n",
       "    <tr>\n",
       "        <td style=\"padding-left: 1em; padding-right: 1em; text-align: center; vertical-align: top\">0</td>\n",
       "        <td style=\"padding-left: 1em; padding-right: 1em; text-align: center; vertical-align: top\">5</td>\n",
       "        <td style=\"padding-left: 1em; padding-right: 1em; text-align: center; vertical-align: top\">7</td>\n",
       "        <td style=\"padding-left: 1em; padding-right: 1em; text-align: center; vertical-align: top\">1050</td>\n",
       "        <td style=\"padding-left: 1em; padding-right: 1em; text-align: center; vertical-align: top\">910</td>\n",
       "        <td style=\"padding-left: 1em; padding-right: 1em; text-align: center; vertical-align: top\">1965</td>\n",
       "        <td style=\"padding-left: 1em; padding-right: 1em; text-align: center; vertical-align: top\">0</td>\n",
       "        <td style=\"padding-left: 1em; padding-right: 1em; text-align: center; vertical-align: top\">98136</td>\n",
       "        <td style=\"padding-left: 1em; padding-right: 1em; text-align: center; vertical-align: top\">47.52082</td>\n",
       "    </tr>\n",
       "    <tr>\n",
       "        <td style=\"padding-left: 1em; padding-right: 1em; text-align: center; vertical-align: top\">0</td>\n",
       "        <td style=\"padding-left: 1em; padding-right: 1em; text-align: center; vertical-align: top\">3</td>\n",
       "        <td style=\"padding-left: 1em; padding-right: 1em; text-align: center; vertical-align: top\">8</td>\n",
       "        <td style=\"padding-left: 1em; padding-right: 1em; text-align: center; vertical-align: top\">1680</td>\n",
       "        <td style=\"padding-left: 1em; padding-right: 1em; text-align: center; vertical-align: top\">0</td>\n",
       "        <td style=\"padding-left: 1em; padding-right: 1em; text-align: center; vertical-align: top\">1987</td>\n",
       "        <td style=\"padding-left: 1em; padding-right: 1em; text-align: center; vertical-align: top\">0</td>\n",
       "        <td style=\"padding-left: 1em; padding-right: 1em; text-align: center; vertical-align: top\">98074</td>\n",
       "        <td style=\"padding-left: 1em; padding-right: 1em; text-align: center; vertical-align: top\">47.61681228</td>\n",
       "    </tr>\n",
       "    <tr>\n",
       "        <td style=\"padding-left: 1em; padding-right: 1em; text-align: center; vertical-align: top\">0</td>\n",
       "        <td style=\"padding-left: 1em; padding-right: 1em; text-align: center; vertical-align: top\">3</td>\n",
       "        <td style=\"padding-left: 1em; padding-right: 1em; text-align: center; vertical-align: top\">11</td>\n",
       "        <td style=\"padding-left: 1em; padding-right: 1em; text-align: center; vertical-align: top\">3890</td>\n",
       "        <td style=\"padding-left: 1em; padding-right: 1em; text-align: center; vertical-align: top\">1530</td>\n",
       "        <td style=\"padding-left: 1em; padding-right: 1em; text-align: center; vertical-align: top\">2001</td>\n",
       "        <td style=\"padding-left: 1em; padding-right: 1em; text-align: center; vertical-align: top\">0</td>\n",
       "        <td style=\"padding-left: 1em; padding-right: 1em; text-align: center; vertical-align: top\">98053</td>\n",
       "        <td style=\"padding-left: 1em; padding-right: 1em; text-align: center; vertical-align: top\">47.65611835</td>\n",
       "    </tr>\n",
       "    <tr>\n",
       "        <td style=\"padding-left: 1em; padding-right: 1em; text-align: center; vertical-align: top\">0</td>\n",
       "        <td style=\"padding-left: 1em; padding-right: 1em; text-align: center; vertical-align: top\">3</td>\n",
       "        <td style=\"padding-left: 1em; padding-right: 1em; text-align: center; vertical-align: top\">7</td>\n",
       "        <td style=\"padding-left: 1em; padding-right: 1em; text-align: center; vertical-align: top\">1715</td>\n",
       "        <td style=\"padding-left: 1em; padding-right: 1em; text-align: center; vertical-align: top\">0</td>\n",
       "        <td style=\"padding-left: 1em; padding-right: 1em; text-align: center; vertical-align: top\">1995</td>\n",
       "        <td style=\"padding-left: 1em; padding-right: 1em; text-align: center; vertical-align: top\">0</td>\n",
       "        <td style=\"padding-left: 1em; padding-right: 1em; text-align: center; vertical-align: top\">98003</td>\n",
       "        <td style=\"padding-left: 1em; padding-right: 1em; text-align: center; vertical-align: top\">47.30972002</td>\n",
       "    </tr>\n",
       "    <tr>\n",
       "        <td style=\"padding-left: 1em; padding-right: 1em; text-align: center; vertical-align: top\">0</td>\n",
       "        <td style=\"padding-left: 1em; padding-right: 1em; text-align: center; vertical-align: top\">3</td>\n",
       "        <td style=\"padding-left: 1em; padding-right: 1em; text-align: center; vertical-align: top\">7</td>\n",
       "        <td style=\"padding-left: 1em; padding-right: 1em; text-align: center; vertical-align: top\">1060</td>\n",
       "        <td style=\"padding-left: 1em; padding-right: 1em; text-align: center; vertical-align: top\">0</td>\n",
       "        <td style=\"padding-left: 1em; padding-right: 1em; text-align: center; vertical-align: top\">1963</td>\n",
       "        <td style=\"padding-left: 1em; padding-right: 1em; text-align: center; vertical-align: top\">0</td>\n",
       "        <td style=\"padding-left: 1em; padding-right: 1em; text-align: center; vertical-align: top\">98198</td>\n",
       "        <td style=\"padding-left: 1em; padding-right: 1em; text-align: center; vertical-align: top\">47.40949984</td>\n",
       "    </tr>\n",
       "    <tr>\n",
       "        <td style=\"padding-left: 1em; padding-right: 1em; text-align: center; vertical-align: top\">0</td>\n",
       "        <td style=\"padding-left: 1em; padding-right: 1em; text-align: center; vertical-align: top\">3</td>\n",
       "        <td style=\"padding-left: 1em; padding-right: 1em; text-align: center; vertical-align: top\">7</td>\n",
       "        <td style=\"padding-left: 1em; padding-right: 1em; text-align: center; vertical-align: top\">1050</td>\n",
       "        <td style=\"padding-left: 1em; padding-right: 1em; text-align: center; vertical-align: top\">730</td>\n",
       "        <td style=\"padding-left: 1em; padding-right: 1em; text-align: center; vertical-align: top\">1960</td>\n",
       "        <td style=\"padding-left: 1em; padding-right: 1em; text-align: center; vertical-align: top\">0</td>\n",
       "        <td style=\"padding-left: 1em; padding-right: 1em; text-align: center; vertical-align: top\">98146</td>\n",
       "        <td style=\"padding-left: 1em; padding-right: 1em; text-align: center; vertical-align: top\">47.51229381</td>\n",
       "    </tr>\n",
       "    <tr>\n",
       "        <td style=\"padding-left: 1em; padding-right: 1em; text-align: center; vertical-align: top\">0</td>\n",
       "        <td style=\"padding-left: 1em; padding-right: 1em; text-align: center; vertical-align: top\">3</td>\n",
       "        <td style=\"padding-left: 1em; padding-right: 1em; text-align: center; vertical-align: top\">7</td>\n",
       "        <td style=\"padding-left: 1em; padding-right: 1em; text-align: center; vertical-align: top\">1890</td>\n",
       "        <td style=\"padding-left: 1em; padding-right: 1em; text-align: center; vertical-align: top\">0</td>\n",
       "        <td style=\"padding-left: 1em; padding-right: 1em; text-align: center; vertical-align: top\">2003</td>\n",
       "        <td style=\"padding-left: 1em; padding-right: 1em; text-align: center; vertical-align: top\">0</td>\n",
       "        <td style=\"padding-left: 1em; padding-right: 1em; text-align: center; vertical-align: top\">98038</td>\n",
       "        <td style=\"padding-left: 1em; padding-right: 1em; text-align: center; vertical-align: top\">47.36840673</td>\n",
       "    </tr>\n",
       "</table>\n",
       "<table frame=\"box\" rules=\"cols\">\n",
       "    <tr>\n",
       "        <th style=\"padding-left: 1em; padding-right: 1em; text-align: center\">long</th>\n",
       "        <th style=\"padding-left: 1em; padding-right: 1em; text-align: center\">sqft_living15</th>\n",
       "        <th style=\"padding-left: 1em; padding-right: 1em; text-align: center\">sqft_lot15</th>\n",
       "    </tr>\n",
       "    <tr>\n",
       "        <td style=\"padding-left: 1em; padding-right: 1em; text-align: center; vertical-align: top\">-122.25677536</td>\n",
       "        <td style=\"padding-left: 1em; padding-right: 1em; text-align: center; vertical-align: top\">1340.0</td>\n",
       "        <td style=\"padding-left: 1em; padding-right: 1em; text-align: center; vertical-align: top\">5650.0</td>\n",
       "    </tr>\n",
       "    <tr>\n",
       "        <td style=\"padding-left: 1em; padding-right: 1em; text-align: center; vertical-align: top\">-122.3188624</td>\n",
       "        <td style=\"padding-left: 1em; padding-right: 1em; text-align: center; vertical-align: top\">1690.0</td>\n",
       "        <td style=\"padding-left: 1em; padding-right: 1em; text-align: center; vertical-align: top\">7639.0</td>\n",
       "    </tr>\n",
       "    <tr>\n",
       "        <td style=\"padding-left: 1em; padding-right: 1em; text-align: center; vertical-align: top\">-122.23319601</td>\n",
       "        <td style=\"padding-left: 1em; padding-right: 1em; text-align: center; vertical-align: top\">2720.0</td>\n",
       "        <td style=\"padding-left: 1em; padding-right: 1em; text-align: center; vertical-align: top\">8062.0</td>\n",
       "    </tr>\n",
       "    <tr>\n",
       "        <td style=\"padding-left: 1em; padding-right: 1em; text-align: center; vertical-align: top\">-122.39318505</td>\n",
       "        <td style=\"padding-left: 1em; padding-right: 1em; text-align: center; vertical-align: top\">1360.0</td>\n",
       "        <td style=\"padding-left: 1em; padding-right: 1em; text-align: center; vertical-align: top\">5000.0</td>\n",
       "    </tr>\n",
       "    <tr>\n",
       "        <td style=\"padding-left: 1em; padding-right: 1em; text-align: center; vertical-align: top\">-122.04490059</td>\n",
       "        <td style=\"padding-left: 1em; padding-right: 1em; text-align: center; vertical-align: top\">1800.0</td>\n",
       "        <td style=\"padding-left: 1em; padding-right: 1em; text-align: center; vertical-align: top\">7503.0</td>\n",
       "    </tr>\n",
       "    <tr>\n",
       "        <td style=\"padding-left: 1em; padding-right: 1em; text-align: center; vertical-align: top\">-122.00528655</td>\n",
       "        <td style=\"padding-left: 1em; padding-right: 1em; text-align: center; vertical-align: top\">4760.0</td>\n",
       "        <td style=\"padding-left: 1em; padding-right: 1em; text-align: center; vertical-align: top\">101930.0</td>\n",
       "    </tr>\n",
       "    <tr>\n",
       "        <td style=\"padding-left: 1em; padding-right: 1em; text-align: center; vertical-align: top\">-122.32704857</td>\n",
       "        <td style=\"padding-left: 1em; padding-right: 1em; text-align: center; vertical-align: top\">2238.0</td>\n",
       "        <td style=\"padding-left: 1em; padding-right: 1em; text-align: center; vertical-align: top\">6819.0</td>\n",
       "    </tr>\n",
       "    <tr>\n",
       "        <td style=\"padding-left: 1em; padding-right: 1em; text-align: center; vertical-align: top\">-122.31457273</td>\n",
       "        <td style=\"padding-left: 1em; padding-right: 1em; text-align: center; vertical-align: top\">1650.0</td>\n",
       "        <td style=\"padding-left: 1em; padding-right: 1em; text-align: center; vertical-align: top\">9711.0</td>\n",
       "    </tr>\n",
       "    <tr>\n",
       "        <td style=\"padding-left: 1em; padding-right: 1em; text-align: center; vertical-align: top\">-122.33659507</td>\n",
       "        <td style=\"padding-left: 1em; padding-right: 1em; text-align: center; vertical-align: top\">1780.0</td>\n",
       "        <td style=\"padding-left: 1em; padding-right: 1em; text-align: center; vertical-align: top\">8113.0</td>\n",
       "    </tr>\n",
       "    <tr>\n",
       "        <td style=\"padding-left: 1em; padding-right: 1em; text-align: center; vertical-align: top\">-122.0308176</td>\n",
       "        <td style=\"padding-left: 1em; padding-right: 1em; text-align: center; vertical-align: top\">2390.0</td>\n",
       "        <td style=\"padding-left: 1em; padding-right: 1em; text-align: center; vertical-align: top\">7570.0</td>\n",
       "    </tr>\n",
       "</table>\n",
       "[21613 rows x 21 columns]<br/>Note: Only the head of the SFrame is printed.<br/>You can use print_rows(num_rows=m, num_columns=n) to print more rows and columns.\n",
       "</div>"
      ],
      "text/plain": [
       "Columns:\n",
       "\tid\tstr\n",
       "\tdate\tdatetime\n",
       "\tprice\tint\n",
       "\tbedrooms\tstr\n",
       "\tbathrooms\tstr\n",
       "\tsqft_living\tint\n",
       "\tsqft_lot\tint\n",
       "\tfloors\tstr\n",
       "\twaterfront\tint\n",
       "\tview\tint\n",
       "\tcondition\tint\n",
       "\tgrade\tint\n",
       "\tsqft_above\tint\n",
       "\tsqft_basement\tint\n",
       "\tyr_built\tint\n",
       "\tyr_renovated\tint\n",
       "\tzipcode\tstr\n",
       "\tlat\tfloat\n",
       "\tlong\tfloat\n",
       "\tsqft_living15\tfloat\n",
       "\tsqft_lot15\tfloat\n",
       "\n",
       "Rows: 21613\n",
       "\n",
       "Data:\n",
       "+------------+---------------------------+---------+----------+-----------+-------------+\n",
       "|     id     |            date           |  price  | bedrooms | bathrooms | sqft_living |\n",
       "+------------+---------------------------+---------+----------+-----------+-------------+\n",
       "| 7129300520 | 2014-10-13 00:00:00+00:00 |  221900 |    3     |     1     |     1180    |\n",
       "| 6414100192 | 2014-12-09 00:00:00+00:00 |  538000 |    3     |    2.25   |     2570    |\n",
       "| 5631500400 | 2015-02-25 00:00:00+00:00 |  180000 |    2     |     1     |     770     |\n",
       "| 2487200875 | 2014-12-09 00:00:00+00:00 |  604000 |    4     |     3     |     1960    |\n",
       "| 1954400510 | 2015-02-18 00:00:00+00:00 |  510000 |    3     |     2     |     1680    |\n",
       "| 7237550310 | 2014-05-12 00:00:00+00:00 | 1225000 |    4     |    4.5    |     5420    |\n",
       "| 1321400060 | 2014-06-27 00:00:00+00:00 |  257500 |    3     |    2.25   |     1715    |\n",
       "| 2008000270 | 2015-01-15 00:00:00+00:00 |  291850 |    3     |    1.5    |     1060    |\n",
       "| 2414600126 | 2015-04-15 00:00:00+00:00 |  229500 |    3     |     1     |     1780    |\n",
       "| 3793500160 | 2015-03-12 00:00:00+00:00 |  323000 |    3     |    2.5    |     1890    |\n",
       "+------------+---------------------------+---------+----------+-----------+-------------+\n",
       "+----------+--------+------------+------+-----------+-------+------------+---------------+\n",
       "| sqft_lot | floors | waterfront | view | condition | grade | sqft_above | sqft_basement |\n",
       "+----------+--------+------------+------+-----------+-------+------------+---------------+\n",
       "|   5650   |   1    |     0      |  0   |     3     |   7   |    1180    |       0       |\n",
       "|   7242   |   2    |     0      |  0   |     3     |   7   |    2170    |      400      |\n",
       "|  10000   |   1    |     0      |  0   |     3     |   6   |    770     |       0       |\n",
       "|   5000   |   1    |     0      |  0   |     5     |   7   |    1050    |      910      |\n",
       "|   8080   |   1    |     0      |  0   |     3     |   8   |    1680    |       0       |\n",
       "|  101930  |   1    |     0      |  0   |     3     |   11  |    3890    |      1530     |\n",
       "|   6819   |   2    |     0      |  0   |     3     |   7   |    1715    |       0       |\n",
       "|   9711   |   1    |     0      |  0   |     3     |   7   |    1060    |       0       |\n",
       "|   7470   |   1    |     0      |  0   |     3     |   7   |    1050    |      730      |\n",
       "|   6560   |   2    |     0      |  0   |     3     |   7   |    1890    |       0       |\n",
       "+----------+--------+------------+------+-----------+-------+------------+---------------+\n",
       "+----------+--------------+---------+-------------+---------------+---------------+-----+\n",
       "| yr_built | yr_renovated | zipcode |     lat     |      long     | sqft_living15 | ... |\n",
       "+----------+--------------+---------+-------------+---------------+---------------+-----+\n",
       "|   1955   |      0       |  98178  | 47.51123398 | -122.25677536 |     1340.0    | ... |\n",
       "|   1951   |     1991     |  98125  | 47.72102274 |  -122.3188624 |     1690.0    | ... |\n",
       "|   1933   |      0       |  98028  | 47.73792661 | -122.23319601 |     2720.0    | ... |\n",
       "|   1965   |      0       |  98136  |   47.52082  | -122.39318505 |     1360.0    | ... |\n",
       "|   1987   |      0       |  98074  | 47.61681228 | -122.04490059 |     1800.0    | ... |\n",
       "|   2001   |      0       |  98053  | 47.65611835 | -122.00528655 |     4760.0    | ... |\n",
       "|   1995   |      0       |  98003  | 47.30972002 | -122.32704857 |     2238.0    | ... |\n",
       "|   1963   |      0       |  98198  | 47.40949984 | -122.31457273 |     1650.0    | ... |\n",
       "|   1960   |      0       |  98146  | 47.51229381 | -122.33659507 |     1780.0    | ... |\n",
       "|   2003   |      0       |  98038  | 47.36840673 |  -122.0308176 |     2390.0    | ... |\n",
       "+----------+--------------+---------+-------------+---------------+---------------+-----+\n",
       "[21613 rows x 21 columns]\n",
       "Note: Only the head of the SFrame is printed.\n",
       "You can use print_rows(num_rows=m, num_columns=n) to print more rows and columns."
      ]
     },
     "execution_count": 3,
     "metadata": {},
     "output_type": "execute_result"
    }
   ],
   "source": [
    "sales"
   ]
  },
  {
   "cell_type": "code",
   "execution_count": 4,
   "metadata": {
    "collapsed": false
   },
   "outputs": [
    {
     "data": {
      "application/javascript": [
       "$(\"head\").append($(\"<link/>\").attr({\n",
       "  rel:  \"stylesheet\",\n",
       "  type: \"text/css\",\n",
       "  href: \"//cdnjs.cloudflare.com/ajax/libs/font-awesome/4.1.0/css/font-awesome.min.css\"\n",
       "}));\n",
       "$(\"head\").append($(\"<link/>\").attr({\n",
       "  rel:  \"stylesheet\",\n",
       "  type: \"text/css\",\n",
       "  href: \"//dato.com/files/canvas/1.8/css/canvas.css\"\n",
       "}));\n",
       "\n",
       "            (function(){\n",
       "\n",
       "                var e = null;\n",
       "                if (typeof element == 'undefined') {\n",
       "                    var scripts = document.getElementsByTagName('script');\n",
       "                    var thisScriptTag = scripts[scripts.length-1];\n",
       "                    var parentDiv = thisScriptTag.parentNode;\n",
       "                    e = document.createElement('div');\n",
       "                    parentDiv.appendChild(e);\n",
       "                } else {\n",
       "                    e = element[0];\n",
       "                }\n",
       "\n",
       "                if (typeof requirejs !== 'undefined') {\n",
       "                    // disable load timeout; ipython_app.js is large and can take a while to load.\n",
       "                    requirejs.config({waitSeconds: 0});\n",
       "                }\n",
       "\n",
       "                require(['//dato.com/files/canvas/1.8/js/ipython_app.js'], function(IPythonApp){\n",
       "                    var app = new IPythonApp();\n",
       "                    app.attachView('sframe','Plots', {\"selected_variable\": {\"name\": [\"sales\"], \"descriptives\": {\"rows\": 21613, \"columns\": 21}, \"view_component\": \"Plots\", \"view_file\": \"sframe\", \"view_params\": {\"y\": \"price\", \"x\": \"sqft_lot15\", \"columns\": [\"id\", \"date\", \"price\", \"bedrooms\", \"bathrooms\", \"sqft_living\", \"sqft_lot\", \"floors\", \"waterfront\", \"view\", \"condition\", \"grade\", \"sqft_above\", \"sqft_basement\", \"yr_built\", \"yr_renovated\", \"zipcode\", \"lat\", \"long\", \"sqft_living15\", \"sqft_lot15\"], \"view\": \"Scatter Plot\"}, \"view_components\": [\"Summary\", \"Table\", \"Bar Chart\", \"BoxWhisker Plot\", \"Line Chart\", \"Scatter Plot\", \"Heat Map\", \"Plots\"], \"type\": \"SFrame\", \"columns\": [{\"dtype\": \"str\", \"name\": \"id\"}, {\"dtype\": \"datetime\", \"name\": \"date\"}, {\"dtype\": \"int\", \"name\": \"price\"}, {\"dtype\": \"str\", \"name\": \"bedrooms\"}, {\"dtype\": \"str\", \"name\": \"bathrooms\"}, {\"dtype\": \"int\", \"name\": \"sqft_living\"}, {\"dtype\": \"int\", \"name\": \"sqft_lot\"}, {\"dtype\": \"str\", \"name\": \"floors\"}, {\"dtype\": \"int\", \"name\": \"waterfront\"}, {\"dtype\": \"int\", \"name\": \"view\"}, {\"dtype\": \"int\", \"name\": \"condition\"}, {\"dtype\": \"int\", \"name\": \"grade\"}, {\"dtype\": \"int\", \"name\": \"sqft_above\"}, {\"dtype\": \"int\", \"name\": \"sqft_basement\"}, {\"dtype\": \"int\", \"name\": \"yr_built\"}, {\"dtype\": \"int\", \"name\": \"yr_renovated\"}, {\"dtype\": \"str\", \"name\": \"zipcode\"}, {\"dtype\": \"float\", \"name\": \"lat\"}, {\"dtype\": \"float\", \"name\": \"long\"}, {\"dtype\": \"float\", \"name\": \"sqft_living15\"}, {\"dtype\": \"float\", \"name\": \"sqft_lot15\"}], \"column_identifiers\": [\"bathrooms\", \"sqft_living15\", \"sqft_above\", \"grade\", \"yr_built\", \"price\", \"bedrooms\", \"zipcode\", \"long\", \"id\", \"sqft_lot15\", \"sqft_living\", \"floors\", \"sqft_lot\", \"date\", \"waterfront\", \"sqft_basement\", \"yr_renovated\", \"lat\", \"condition\", \"view\"]}, \"complete\": 1, \"ipython\": true, \"progress\": 1.0, \"data\": [[6380.0, 536000], [7754.0, 269950], [1427.0, 390500], [6500.0, 680000], [9052.0, 385000], [8400.0, 352500], [4150.0, 477000], [7800.0, 270000], [3348.0, 497000], [6766.0, 800000], [1756.0, 277500], [12746.0, 760000], [5000.0, 275000], [5200.0, 415000], [1498.0, 327000], [13125.0, 490000], [10795.0, 345000], [20666.0, 2328000], [8400.0, 729000], [35910.0, 670000], [8839.0, 241500], [7680.0, 85000], [7200.0, 249500], [3600.0, 1518634], [5065.0, 344950], [10300.0, 409950], [4000.0, 825000], [7686.0, 261000], [8171.0, 442500], [8500.0, 225000], [11250.0, 219900], [11574.0, 415000], [6986.0, 330000], [5000.0, 605000], [7800.0, 1875000], [8515.0, 749950], [8418.0, 312000], [98010.0, 590000], [10080.0, 280000], [7658.0, 500000], [9913.0, 289950], [13709.0, 1200000], [7920.0, 427000], [4590.0, 707900], [7150.0, 549000], [6536.0, 641500], [18110.0, 357000], [13685.0, 785000], [6250.0, 438000], [18630.0, 84000], [5211.0, 678000], [6705.0, 369990], [6000.0, 382000], [5000.0, 650000], [6000.0, 220000], [8431.0, 526500], [2719.0, 610000], [10404.0, 234000], [35273.0, 930000], [9380.0, 272000], [8064.0, 595000], [12100.0, 390000], [40803.0, 930800], [3090.0, 549000], [9927.0, 562500], [54014.0, 879000], [13260.0, 220000], [8254.0, 285000], [4860.0, 750000], [40946.0, 790000], [19916.0, 1010000], [12000.0, 540000], [16153.0, 965000], [7969.0, 275000], [7420.0, 304500], [15261.0, 780000], [4400.0, 350000], [16140.0, 571500], [8012.0, 237600], [5843.0, 270000], [8300.0, 330000], [6855.0, 250000], [9742.0, 454000], [4733.0, 525000], [5250.0, 732000], [4800.0, 940000], [4322.0, 491500], [7561.0, 510000], [14930.0, 375000], [3300.0, 785200], [6337.0, 270000], [3028.0, 240000], [9607.0, 325000], [9065.0, 308000], [6000.0, 315000], [157123.0, 437000], [5026.0, 159995], [25138.0, 862500], [1590.0, 350000], [9375.0, 507000], [20624.0, 340000], [5000.0, 900000], [7916.0, 515500], [7920.0, 419950], [1254.0, 370000], [7575.0, 215000], [7200.0, 176500], [16607.0, 2998000], [15909.0, 1250000], [8279.0, 875000], [3185.0, 483000], [8250.0, 460000], [2500.0, 445000], [10410.0, 425000], [17388.0, 452000], [7210.0, 245000], [8729.0, 845000], [8400.0, 910000], [10200.0, 210000], [4268.0, 285000], [5000.0, 518000], [3700.0, 400000], [14110.0, 1300000], [7500.0, 400000], [10125.0, 345000], [10215.0, 469000], [6664.0, 491000], [7857.0, 345000], [10186.0, 650000], [11000.0, 760250], [5000.0, 815000], [4933.0, 560000], [7197.0, 715000], [6360.0, 1086000], [2285.0, 675000], [5001.0, 623300], [6300.0, 450000], [5639.0, 433000], [5000.0, 576750], [1310.0, 519950], [5900.0, 652600], [8976.0, 273000], [6242.0, 668500], [20492.0, 645000], [4500.0, 925000], [5670.0, 490000], [7000.0, 1662000], [11761.0, 570000], [9450.0, 330000], [7200.0, 460000], [7200.0, 439000], [7910.0, 539000], [12400.0, 610000], [7600.0, 299950], [6835.0, 648000], [10943.0, 865000], [6380.0, 499950], [3990.0, 1375000], [7200.0, 765000], [10216.0, 276000], [4500.0, 317950], [42612.0, 575000], [3669.0, 499000], [11896.0, 710000], [1525.0, 730000], [5046.0, 559630], [8274.0, 182200], [7200.0, 354000], [10290.0, 437850], [7936.0, 280000], [750.0, 336750], [90169.0, 420000], [8200.0, 355000], [6458.0, 289000], [8335.0, 673000], [1080.0, 286000], [1342.0, 416286], [24190.0, 657500], [1843.0, 335000], [7784.0, 1333000], [3600.0, 608000], [6112.0, 950000], [8200.0, 461000], [10472.0, 665000], [8108.0, 279000], [36290.0, 895000], [39512.0, 595000], [7987.0, 330000], [7920.0, 429000], [14800.0, 350000], [7000.0, 425000], [32374.0, 1050000], [5026.0, 562500], [30847.0, 190000], [7110.0, 225800], [5250.0, 603000], [6480.0, 423000], [5000.0, 577000], [3622.0, 329445], [5910.0, 546800], [4449.0, 349990], [5217.0, 489000], [25500.0, 310000], [7200.0, 338500], [8710.0, 390000], [7200.0, 365000], [7875.0, 667000], [12465.0, 320000], [8461.0, 357500], [4000.0, 685000], [7627.0, 302000], [6300.0, 840000], [4800.0, 900000], [2218.0, 387500], [5500.0, 982218], [7680.0, 379400], [5580.0, 1350000], [3330.0, 152000], [8400.0, 235000], [6037.0, 598992], [4649.0, 310000], [11662.0, 515000], [13500.0, 890000], [5754.0, 295000], [10005.0, 936000], [8770.0, 375000], [18713.0, 1950000], [4000.0, 410000], [6801.0, 289000], [1335.0, 610000], [4694.0, 440000], [10108.0, 928950], [1344.0, 299800], [9600.0, 704111], [4992.0, 834950], [1232.0, 316750], [10220.0, 374000], [5762.0, 672500], [5679.0, 870000], [7800.0, 1290000], [10902.0, 1150000], [3250.0, 307000], [5000.0, 610000], [7200.0, 280005], [8484.0, 469950], [10400.0, 280000], [10000.0, 379750], [183897.0, 740000], [2665.0, 537000], [7425.0, 375000], [5288.0, 325000], [6567.0, 455000], [13350.0, 295000], [6532.0, 194000], [8250.0, 350000], [4519.0, 765000], [17400.0, 535000], [11447.0, 1500000], [10098.0, 255000], [2611.0, 330675], [6203.0, 176000], [7830.0, 140000], [33450.0, 525000], [8425.0, 423800], [8040.0, 350000], [5750.0, 890000], [5750.0, 550000], [4680.0, 203000], [5100.0, 515000], [6380.0, 425000], [15375.0, 197500], [1456.0, 742000], [5400.0, 389100], [7208.0, 263000], [9829.0, 525000], [7680.0, 763000], [7908.0, 370000], [9670.0, 287000], [7320.0, 378000], [10800.0, 460000], [5250.0, 264000], [11180.0, 260000], [12210.0, 326188], [6017.0, 334888], [7700.0, 1400000], [9540.0, 1289000], [19597.0, 450000], [3800.0, 999000], [9807.0, 240000], [15150.0, 518000], [9912.0, 360000], [7210.0, 350000], [4800.0, 505000], [25675.0, 200000], [10320.0, 490000], [4800.0, 525000], [27903.0, 502700], [22047.0, 685000], [4610.0, 450000], [8560.0, 305000], [8344.0, 405000], [6390.0, 238000], [36200.0, 1525000], [108028.0, 427500], [10296.0, 255000], [7340.0, 272000], [10000.0, 490000], [13868.0, 898000], [8606.0, 380000], [7855.0, 364900], [35259.0, 404000], [2537.0, 275000], [7373.0, 365000], [2378.0, 533500], [8895.0, 810000], [8680.0, 370000], [4811.0, 163000], [14060.0, 319000], [49346.0, 3395000], [7680.0, 353900], [5200.0, 132825], [9108.0, 299900], [1183.0, 530000], [47480.0, 562000], [4094.0, 435000], [9750.0, 475000], [8525.0, 1100005], [11070.0, 685000], [4829.0, 555000], [7342.0, 390000], [5000.0, 515000], [4080.0, 790000], [9219.0, 560000], [8360.0, 455000], [7500.0, 415000], [5589.0, 225000], [6720.0, 286500], [5250.0, 435000], [7561.0, 510000], [5800.0, 880000], [6221.0, 360000], [9458.0, 265000], [8691.0, 425000], [19000.0, 600000], [8773.0, 277500], [10939.0, 309900], [10640.0, 435000], [8750.0, 480000], [125017.0, 389900], [10631.0, 1532500], [7650.0, 734000], [6863.0, 1138990], [6674.0, 2300000], [9801.0, 374950], [1340.0, 277700], [8400.0, 700000], [10736.0, 392500], [3025.0, 499000], [9300.0, 1150000], [4000.0, 295000], [4300.0, 497950], [5782.0, 325000], [8303.0, 415000], [6000.0, 210000], [15569.0, 362950], [7666.0, 788600], [9975.0, 249950], [5992.0, 594491], [5100.0, 500000], [216928.0, 600000], [8125.0, 145000], [9940.0, 365000], [7830.0, 310000], [7894.0, 1210000], [10250.0, 2195000], [8250.0, 527500], [7000.0, 209000], [11084.0, 257000], [9677.0, 648000], [8683.0, 373000], [10782.0, 430000], [10599.0, 465000], [1334.0, 500000], [7632.0, 246000], [38307.0, 595000], [10572.0, 325000], [7800.0, 775000], [2664.0, 725000], [7650.0, 388000], [4000.0, 870000], [7620.0, 345000], [12900.0, 275000], [11500.0, 385000], [5500.0, 1100000], [5000.0, 385000], [8436.0, 508000], [5750.0, 499950], [7721.0, 280000], [4000.0, 709000], [4800.0, 293000], [4116.0, 294010], [11368.0, 325000], [45302.0, 390000], [4219.0, 435000], [7947.0, 887000], [4200.0, 385000], [6091.0, 259875], [6250.0, 375000], [4200.0, 415000], [4920.0, 825000], [35943.0, 725000], [6381.0, 325000], [10802.0, 1038000], [4800.0, 780000], [928.0, 259950], [273992.0, 550000], [5000.0, 565000], [3720.0, 875000], [7804.0, 520000], [5286.0, 342450], [1452.0, 437000], [1062.0, 325000], [67756.0, 450000], [5712.0, 529100], [10133.0, 687000], [748.0, 325000], [4880.0, 620000], [11500.0, 239000], [9660.0, 397000], [9100.0, 1050000], [1185.0, 525000], [17003.0, 750000], [1068.0, 461000], [1350.0, 439000], [5000.0, 818000], [16181.0, 959750], [19257.0, 1120000], [3360.0, 600000], [7700.0, 430000], [7940.0, 475000], [6628.0, 265000], [26000.0, 1480000], [8040.0, 185000], [1460.0, 499950], [9196.0, 2385000], [12000.0, 610000], [8556.0, 315000], [2652.0, 635000], [7650.0, 257000], [7968.0, 1245000], [1628.0, 328500], [4652.0, 395000], [8165.0, 257000], [10952.0, 389500], [8800.0, 250000], [3200.0, 476000], [4533.0, 559000], [4063.0, 680000], [6002.0, 455000], [9017.0, 1300000], [5000.0, 174000], [52707.0, 415000], [1739.0, 432500], [8042.0, 346300], [35160.0, 500000], [15725.0, 246700], [9000.0, 440000], [8286.0, 921000], [8320.0, 247000], [14850.0, 175000], [8482.0, 480000], [8000.0, 233000], [8160.0, 865000], [8478.0, 339000], [8803.0, 450000], [8050.0, 2500000], [17136.0, 402000], [5400.0, 438924], [7436.0, 250000], [3568.0, 1452000], [5150.0, 406000], [10176.0, 170000], [7200.0, 423000], [37901.0, 525000], [10000.0, 452250], [2442.0, 426000], [5040.0, 109000], [9222.0, 255000], [10432.0, 618000], [12841.0, 398000], [1593.0, 425000], [3844.0, 358803], [6771.0, 373000], [17400.0, 279000], [15720.0, 926500], [7200.0, 319950], [15375.0, 660000], [9508.0, 321000], [1150.0, 389950], [4816.0, 437500], [1296.0, 450000], [4091.0, 390000], [10335.0, 718000], [4590.0, 475000], [4273.0, 389000], [9206.0, 203000], [13963.0, 473000], [1525.0, 487500], [5700.0, 374000], [3656.0, 550000], [2500.0, 459000], [3880.0, 520000], [22620.0, 415000], [3600.0, 1385000], [8180.0, 275400], [87120.0, 568000], [7220.0, 199000], [10500.0, 450000], [2036.0, 346100], [1260.0, 380000], [9028.0, 450000], [3960.0, 677790], [21814.0, 1362500], [23958.0, 1175000], [4000.0, 394475], [3844.0, 325000], [7904.0, 1220000], [7788.0, 300000], [8037.0, 275000], [8000.0, 219950], [8254.0, 560000], [1898.0, 200000], [10182.0, 560000], [1414.0, 417000], [8623.0, 173000], [11490.0, 2450000], [4023.0, 600000], [11770.0, 640000], [8308.0, 474900], [9000.0, 225000], [3821.0, 411753], [6000.0, 710000], [6120.0, 495000], [7799.0, 630000], [7875.0, 390000], [1090.0, 369950], [175982.0, 530000], [8103.0, 370000], [11761.0, 535000], [217800.0, 110000], [3120.0, 143000], [8840.0, 297950], [4923.0, 679000], [40185.0, 952000], [1425.0, 450000], [6714.0, 150000], [84300.0, 280000], [11700.0, 1900000], [4090.0, 410000], [78408.0, 309933], [1797.0, 590000], [7350.0, 269500], [4687.0, 415500], [7500.0, 240000], [9030.0, 313100], [5100.0, 595000], [5130.0, 435000], [23408.0, 4500000], [22400.0, 389000], [7794.0, 130000], [11250.0, 380000], [7700.0, 307000], [9450.0, 250000], [6380.0, 445500], [6160.0, 450000], [19837.0, 1320000], [3402.0, 266000], [117612.0, 449950], [7903.0, 265000], [8717.0, 739888], [7500.0, 550000], [104108.0, 355000], [6723.0, 666500], [5000.0, 1190000], [8433.0, 365000], [9375.0, 314950], [6760.0, 1400000], [7500.0, 285950], [2676.0, 385000], [6360.0, 119900], [6396.0, 359000], [10454.0, 278000], [4275.0, 720001], [30950.0, 795000], [1688.0, 459000], [5096.0, 540000], [6071.0, 906000], [4000.0, 690000], [9169.0, 295000], [9453.0, 389000], [4013.0, 440000], [5617.0, 690000], [6807.0, 550000], [5100.0, 335000], [5026.0, 392000], [7848.0, 563500], [7604.0, 506000], [9750.0, 156601], [1169.0, 499950], [5650.0, 329000], [7300.0, 399950], [9568.0, 695000], [8942.0, 329000], [6656.0, 583800], [10856.0, 668750], [8800.0, 1110000], [9434.0, 414050], [144619.0, 950000], [5400.0, 464000], [5573.0, 1570000], [6000.0, 572000], [15674.0, 294000], [8400.0, 197400], [6383.0, 360000], [817.0, 325000], [11156.0, 525000], [1407.0, 635000], [10726.0, 342500], [4314.0, 490000], [8841.0, 677100], [7859.0, 289950], [4550.0, 726500], [11337.0, 555565], [4500.0, 325000], [4779.0, 141800], [2099.0, 597000], [10441.0, 692000], [5000.0, 734200], [7210.0, 158000], [5001.0, 769000], [5178.0, 405000], [1302.0, 186950], [5500.0, 1250000], [22114.0, 2375000], [6120.0, 228000], [51366.0, 485000], [6490.0, 405000], [8214.0, 227000], [7440.0, 430000], [5664.0, 366000], [10919.0, 236000], [11952.0, 540000], [2889.0, 249900], [12204.0, 424240], [8100.0, 263000], [7350.0, 645000], [8025.0, 447000], [8100.0, 635000], [4445.0, 672000], [4980.0, 525000], [15625.0, 269900], [7710.0, 355000], [6000.0, 475000], [8400.0, 246600], [8499.0, 276750], [101529.0, 400000], [14849.0, 640000], [4240.0, 626000], [3200.0, 260000], [8996.0, 317000], [4800.0, 365000], [5992.0, 449990], [4000.0, 425000], [3880.0, 485000], [4080.0, 495000], [9648.0, 330000], [9100.0, 359950], [5250.0, 383000], [20360.0, 275000], [6731.0, 550000], [6732.0, 200000], [915.0, 385000], [6088.0, 440000], [11979.0, 1013050], [11777.0, 639000], [7551.0, 304000], [6900.0, 250000], [8545.0, 289000], [5365.0, 340000], [8757.0, 412000], [8100.0, 435000], [9000.0, 689000], [7500.0, 442500], [10311.0, 599500], [14323.0, 550000], [12497.0, 390000], [4000.0, 666570], [5000.0, 1165000], [1297.0, 450000], [219542.0, 745000], [7308.0, 290000], [12150.0, 880000], [10679.0, 750000], [8374.0, 420000], [10000.0, 130000], [9625.0, 244000], [4443.0, 2000000], [5153.0, 650000], [13000.0, 784500], [6120.0, 810000], [8418.0, 395000], [8711.0, 515000], [5000.0, 675000], [29918.0, 475000], [36342.0, 1229000], [5313.0, 319990], [4635.0, 735000], [6700.0, 245000], [10108.0, 908950], [7212.0, 330000], [12000.0, 382000], [7644.0, 475000], [7756.0, 500000], [6300.0, 611206], [8000.0, 350000], [5000.0, 263500], [8400.0, 266000], [112820.0, 560000], [6770.0, 310000], [7034.0, 122000], [9800.0, 230000], [9890.0, 445000], [8610.0, 497500], [8934.0, 270000], [7471.0, 626100], [9000.0, 457000], [4800.0, 1169000], [7418.0, 515000], [7700.0, 144000], [8125.0, 379260], [16907.0, 360000], [9791.0, 1150000], [5782.0, 496700], [9650.0, 305000], [1539.0, 530000], [36820.0, 710800], [4000.0, 335900], [9351.0, 540000], [7200.0, 1385000], [6588.0, 552500], [4000.0, 341000], [11100.0, 217500], [7740.0, 394000], [4800.0, 700000], [8475.0, 234950], [10401.0, 748000], [8770.0, 329990], [5470.0, 1325000], [7770.0, 465000], [5350.0, 1655000], [3300.0, 710000], [1493.0, 335000], [425581.0, 700000], [16000.0, 240000], [8625.0, 575000], [9965.0, 550000], [5800.0, 1506000], [7400.0, 610360], [92747.0, 585000], [1607.0, 365000], [8400.0, 401500], [7200.0, 224400], [5400.0, 245000], [5120.0, 372000], [35350.0, 525000], [6584.0, 333000], [4158.0, 980000], [7900.0, 260000], [5314.0, 456500], [6026.0, 200000], [14994.0, 850000], [8200.0, 416000], [1680.0, 338500], [6050.0, 339950], [10599.0, 830000], [1618.0, 629950], [10000.0, 273000], [5760.0, 670000], [11875.0, 968060], [7500.0, 580000], [9609.0, 650000], [14904.0, 510000], [4418.0, 300000], [1639.0, 565000], [977.0, 840000], [7911.0, 330000], [6941.0, 340000], [5250.0, 562200], [5462.0, 456000], [5182.0, 430236], [9870.0, 290000], [9730.0, 386000], [4600.0, 552000], [35772.0, 338950], [6000.0, 580000], [14217.0, 588500], [10890.0, 265000], [29152.0, 335000], [7500.0, 265000], [4000.0, 421500], [6600.0, 351000], [5625.0, 330000], [8080.0, 225000], [14550.0, 419900], [5494.0, 415000], [10854.0, 550000], [3984.0, 560200], [2640.0, 550000], [7767.0, 446500], [1167.0, 370000], [50543.0, 555000], [5500.0, 310950], [4000.0, 690000], [10362.0, 260000], [20897.0, 1950000], [7260.0, 354000], [4606.0, 588000], [7419.0, 269000], [6765.0, 612000], [7242.0, 359000], [3840.0, 445000], [8810.0, 350000], [8344.0, 690000], [22641.0, 1102030], [3880.0, 470000], [6380.0, 495000], [8832.0, 265000], [5518.0, 601000], [7876.0, 350500], [7202.0, 582500], [8147.0, 265000], [7980.0, 284700], [7040.0, 385000], [15940.0, 3345000], [8434.0, 630000], [6000.0, 450000], [9856.0, 492500], [9598.0, 715000], [7469.0, 330000], [7500.0, 249000], [5500.0, 1205000], [35378.0, 682000], [31450.0, 650000], [35679.0, 830000], [5000.0, 106000], [8400.0, 850000], [10800.0, 485000], [4920.0, 415000], [9855.0, 272000], [5060.0, 380000], [5403.0, 510000], [14959.0, 194000], [1223.0, 356000], [6000.0, 415000], [14007.0, 470000], [161172.0, 430000], [9715.0, 262000], [6500.0, 338500], [24792.0, 170000], [9590.0, 270000], [8131.0, 684000], [11254.0, 515000], [3828.0, 630000], [1193.0, 665000], [5400.0, 589500], [7980.0, 535100], [39356.0, 473000], [51836.0, 412000], [4187.0, 515000], [7350.0, 325000], [3848.0, 299950], [8390.0, 280000], [7816.0, 500000], [8636.0, 197000], [12348.0, 975000], [15154.0, 1169000], [6000.0, 265000], [10505.0, 285000], [4000.0, 910000], [5700.0, 208950], [3082.0, 374000], [2153.0, 800000], [8640.0, 1395713], [7477.0, 287500], [4000.0, 660000], [2735.0, 440000], [7676.0, 550120], [7683.0, 359000], [8603.0, 124000], [3980.0, 450000], [6350.0, 844000], [7686.0, 169000], [86248.0, 587000], [6099.0, 242000], [11124.0, 865000], [19800.0, 593700], [14652.0, 396500], [1500.0, 375000], [5705.0, 560000], [7350.0, 503000], [5080.0, 129000], [4157.0, 419000], [4000.0, 440000], [8351.0, 210000], [41241.0, 592500], [6000.0, 439000], [4050.0, 324500], [12253.0, 935000], [5000.0, 550000], [5883.0, 310000], [8418.0, 249000], [20440.0, 2575000], [9000.0, 610000], [31100.0, 299000], [7920.0, 265000], [10050.0, 275000], [11129.0, 600000], [114728.0, 429000], [7421.0, 390000], [5180.0, 397000], [3002.0, 402000], [6497.0, 245000], [8650.0, 369500], [5151.0, 537500], [7626.0, 1636000], [3800.0, 627000], [10664.0, 402000], [37531.0, 261000], [6381.0, 527900], [9858.0, 648000], [5472.0, 319450], [1232.0, 419950], [1576.0, 379770], [11700.0, 565000], [3999.0, 478000], [21010.0, 1150000], [10790.0, 234500], [6038.0, 446800], [7200.0, 276000], [8750.0, 215000], [8320.0, 246000], [20612.0, 570000], [9067.0, 738000], [7594.0, 250000], [8463.0, 256500], [8225.0, 419625], [7800.0, 329950], [8640.0, 395000], [8296.0, 525000], [8000.0, 1727000], [4107.0, 763000], [4000.0, 750000], [6000.0, 760000], [3500.0, 350000], [4000.0, 935000], [7250.0, 577000], [200811.0, 500000], [7145.0, 230000], [16940.0, 760000], [5369.0, 282000], [10640.0, 502000], [2843.0, 735000], [1598.0, 255000], [4280.0, 503000], [41382.0, 637000], [5371.0, 648000], [13160.0, 869000], [10839.0, 270000], [41275.0, 665000], [6535.0, 225000], [18723.0, 2485000], [11250.0, 454900], [7452.0, 440000], [32400.0, 660000], [1304.0, 512000], [8147.0, 399000], [5000.0, 1070000], [6250.0, 375000], [2198.0, 352000], [11310.0, 640000], [8000.0, 710000], [6144.0, 278000], [9900.0, 739000], [3956.0, 543000], [5200.0, 299950], [3720.0, 615000], [9942.0, 216000], [13556.0, 430000], [14175.0, 260000], [9550.0, 289000]], \"columns\": [{\"dtype\": \"str\", \"name\": \"id\"}, {\"dtype\": \"datetime\", \"name\": \"date\"}, {\"dtype\": \"int\", \"name\": \"price\"}, {\"dtype\": \"str\", \"name\": \"bedrooms\"}, {\"dtype\": \"str\", \"name\": \"bathrooms\"}, {\"dtype\": \"int\", \"name\": \"sqft_living\"}, {\"dtype\": \"int\", \"name\": \"sqft_lot\"}, {\"dtype\": \"str\", \"name\": \"floors\"}, {\"dtype\": \"int\", \"name\": \"waterfront\"}, {\"dtype\": \"int\", \"name\": \"view\"}, {\"dtype\": \"int\", \"name\": \"condition\"}, {\"dtype\": \"int\", \"name\": \"grade\"}, {\"dtype\": \"int\", \"name\": \"sqft_above\"}, {\"dtype\": \"int\", \"name\": \"sqft_basement\"}, {\"dtype\": \"int\", \"name\": \"yr_built\"}, {\"dtype\": \"int\", \"name\": \"yr_renovated\"}, {\"dtype\": \"str\", \"name\": \"zipcode\"}, {\"dtype\": \"float\", \"name\": \"lat\"}, {\"dtype\": \"float\", \"name\": \"long\"}, {\"dtype\": \"float\", \"name\": \"sqft_living15\"}, {\"dtype\": \"float\", \"name\": \"sqft_lot15\"}]}, e);\n",
       "                });\n",
       "            })();\n",
       "        "
      ]
     },
     "metadata": {},
     "output_type": "display_data"
    }
   ],
   "source": [
    "graphlab.canvas.set_target('ipynb')\n",
    "sales.show(view = 'Scatter Plot', x = \"sqft_lot15\",  y = \"price\" )"
   ]
  },
  {
   "cell_type": "markdown",
   "metadata": {},
   "source": [
    "# Create Training & Test Data\n"
   ]
  },
  {
   "cell_type": "code",
   "execution_count": 61,
   "metadata": {
    "collapsed": true
   },
   "outputs": [],
   "source": [
    "Train,Test = sales.random_split(0.8, seed = 0)"
   ]
  },
  {
   "cell_type": "code",
   "execution_count": 62,
   "metadata": {
    "collapsed": false
   },
   "outputs": [
    {
     "data": {
      "application/javascript": [
       "$(\"head\").append($(\"<link/>\").attr({\n",
       "  rel:  \"stylesheet\",\n",
       "  type: \"text/css\",\n",
       "  href: \"//cdnjs.cloudflare.com/ajax/libs/font-awesome/4.1.0/css/font-awesome.min.css\"\n",
       "}));\n",
       "$(\"head\").append($(\"<link/>\").attr({\n",
       "  rel:  \"stylesheet\",\n",
       "  type: \"text/css\",\n",
       "  href: \"//dato.com/files/canvas/1.8/css/canvas.css\"\n",
       "}));\n",
       "\n",
       "            (function(){\n",
       "\n",
       "                var e = null;\n",
       "                if (typeof element == 'undefined') {\n",
       "                    var scripts = document.getElementsByTagName('script');\n",
       "                    var thisScriptTag = scripts[scripts.length-1];\n",
       "                    var parentDiv = thisScriptTag.parentNode;\n",
       "                    e = document.createElement('div');\n",
       "                    parentDiv.appendChild(e);\n",
       "                } else {\n",
       "                    e = element[0];\n",
       "                }\n",
       "\n",
       "                if (typeof requirejs !== 'undefined') {\n",
       "                    // disable load timeout; ipython_app.js is large and can take a while to load.\n",
       "                    requirejs.config({waitSeconds: 0});\n",
       "                }\n",
       "\n",
       "                require(['//dato.com/files/canvas/1.8/js/ipython_app.js'], function(IPythonApp){\n",
       "                    var app = new IPythonApp();\n",
       "                    app.attachView('sframe','Plots', {\"selected_variable\": {\"name\": [\"Train\"], \"descriptives\": {\"rows\": 17384, \"columns\": 21}, \"view_component\": \"Plots\", \"view_file\": \"sframe\", \"view_params\": {\"y\": \"price\", \"x\": \"sqft_living\", \"columns\": [\"id\", \"date\", \"price\", \"bedrooms\", \"bathrooms\", \"sqft_living\", \"sqft_lot\", \"floors\", \"waterfront\", \"view\", \"condition\", \"grade\", \"sqft_above\", \"sqft_basement\", \"yr_built\", \"yr_renovated\", \"zipcode\", \"lat\", \"long\", \"sqft_living15\", \"sqft_lot15\"], \"view\": \"Scatter Plot\"}, \"view_components\": [\"Summary\", \"Table\", \"Bar Chart\", \"BoxWhisker Plot\", \"Line Chart\", \"Scatter Plot\", \"Heat Map\", \"Plots\"], \"type\": \"SFrame\", \"columns\": [{\"dtype\": \"str\", \"name\": \"id\"}, {\"dtype\": \"datetime\", \"name\": \"date\"}, {\"dtype\": \"int\", \"name\": \"price\"}, {\"dtype\": \"str\", \"name\": \"bedrooms\"}, {\"dtype\": \"str\", \"name\": \"bathrooms\"}, {\"dtype\": \"int\", \"name\": \"sqft_living\"}, {\"dtype\": \"int\", \"name\": \"sqft_lot\"}, {\"dtype\": \"str\", \"name\": \"floors\"}, {\"dtype\": \"int\", \"name\": \"waterfront\"}, {\"dtype\": \"int\", \"name\": \"view\"}, {\"dtype\": \"int\", \"name\": \"condition\"}, {\"dtype\": \"int\", \"name\": \"grade\"}, {\"dtype\": \"int\", \"name\": \"sqft_above\"}, {\"dtype\": \"int\", \"name\": \"sqft_basement\"}, {\"dtype\": \"int\", \"name\": \"yr_built\"}, {\"dtype\": \"int\", \"name\": \"yr_renovated\"}, {\"dtype\": \"str\", \"name\": \"zipcode\"}, {\"dtype\": \"float\", \"name\": \"lat\"}, {\"dtype\": \"float\", \"name\": \"long\"}, {\"dtype\": \"float\", \"name\": \"sqft_living15\"}, {\"dtype\": \"float\", \"name\": \"sqft_lot15\"}], \"column_identifiers\": [\"bathrooms\", \"sqft_living15\", \"sqft_above\", \"grade\", \"yr_built\", \"price\", \"bedrooms\", \"zipcode\", \"long\", \"id\", \"sqft_lot15\", \"sqft_living\", \"floors\", \"sqft_lot\", \"date\", \"waterfront\", \"sqft_basement\", \"yr_renovated\", \"lat\", \"condition\", \"view\"]}, \"complete\": 1, \"ipython\": true, \"progress\": 1.0, \"data\": [[1940, 500000], [830, 135000], [2660, 310000], [3596, 580000], [1790, 330000], [940, 219950], [1320, 207500], [1730, 625000], [1530, 260000], [1930, 665000], [700, 175000], [1240, 331000], [1150, 465000], [1390, 315000], [1730, 270000], [720, 295000], [2780, 717000], [2740, 470000], [3260, 1550000], [1860, 580000], [4010, 1150000], [1070, 252700], [2080, 350500], [2450, 937000], [2020, 240000], [2660, 629000], [2090, 785000], [2180, 455000], [1540, 492450], [1450, 419900], [1390, 225000], [1070, 95000], [1830, 339000], [1680, 255000], [1820, 775000], [1867, 378950], [1510, 425000], [1410, 391000], [1660, 410000], [740, 213000], [1680, 210000], [1100, 353000], [1690, 430000], [2820, 893880], [2080, 300000], [2300, 475000], [1400, 359950], [1520, 249000], [1250, 443725], [1840, 550000], [2510, 557500], [580, 330600], [2280, 760000], [940, 340500], [1700, 290000], [2380, 340000], [1280, 185000], [2080, 480000], [1150, 452950], [1640, 525000], [3240, 600000], [1450, 265000], [1830, 639000], [1630, 260000], [1820, 369000], [910, 239900], [2290, 1065000], [1770, 487000], [2970, 845000], [1370, 296000], [1940, 375000], [2640, 570000], [1700, 263950], [2120, 200000], [1240, 221000], [1420, 235000], [1310, 337000], [1610, 290000], [2650, 734990], [1070, 256950], [3990, 650000], [1250, 365000], [770, 203700], [2620, 900000], [1900, 405000], [2920, 820000], [2250, 675000], [2120, 693000], [2740, 660000], [2920, 1088000], [3190, 722000], [1830, 346950], [2070, 500000], [1350, 225000], [1889, 277950], [2310, 597750], [1340, 415000], [1650, 369500], [2820, 934000], [2660, 513000], [5760, 2880500], [880, 205425], [2160, 580000], [1000, 140000], [1620, 484000], [2090, 700000], [3260, 565000], [2100, 445000], [1710, 480000], [2130, 509000], [5110, 650000], [1970, 289000], [2280, 850000], [2140, 280000], [2230, 440000], [1790, 325000], [3284, 460458], [2163, 255000], [1720, 449000], [2440, 1005000], [1830, 465000], [3028, 480000], [4560, 1490000], [2130, 534000], [1500, 242000], [3670, 921500], [1140, 255000], [4180, 1886700], [1690, 544500], [1970, 442500], [3950, 1420000], [1200, 251000], [2940, 589000], [3240, 902000], [1430, 720001], [2280, 515000], [1720, 589000], [1900, 649950], [1780, 354950], [3560, 1280600], [1370, 160000], [3380, 435000], [1570, 430000], [3880, 635000], [4220, 799950], [3540, 550000], [1340, 313000], [4495, 870000], [1970, 399950], [2420, 697000], [1800, 533000], [1350, 330000], [1940, 635000], [1200, 340000], [1950, 480000], [1540, 180500], [1970, 285000], [1330, 386000], [2070, 279000], [1170, 540000], [1370, 479000], [5250, 915000], [2190, 345000], [1510, 489000], [570, 260000], [2180, 558000], [1860, 529950], [1600, 510000], [2060, 410000], [2350, 613500], [1350, 385000], [2460, 640000], [1920, 615000], [2560, 577000], [1060, 219950], [1600, 299950], [1790, 410000], [2040, 284000], [1750, 491300], [2520, 435000], [2760, 336000], [910, 515000], [3560, 1750000], [1440, 456000], [2520, 335000], [1340, 217000], [3290, 695000], [2320, 375000], [1250, 500000], [2020, 328000], [1420, 147200], [3190, 757000], [2876, 895000], [2170, 755000], [1850, 315000], [1240, 400000], [2250, 411000], [1050, 515000], [1400, 320000], [4290, 840000], [1230, 636000], [4020, 1950000], [760, 110000], [3070, 731000], [4130, 995000], [2080, 285000], [2880, 535000], [800, 269500], [1350, 270000], [1230, 435000], [960, 255000], [2700, 565000], [2870, 525000], [2330, 650000], [620, 255000], [860, 207000], [2100, 330000], [2290, 620000], [1320, 475000], [1640, 832600], [1230, 329000], [1270, 237000], [770, 425000], [1260, 401000], [2095, 711000], [1810, 257000], [2080, 600000], [5050, 2900000], [1920, 549000], [1410, 335000], [2210, 294000], [1870, 325000], [1660, 467000], [2290, 450000], [2100, 491500], [1410, 377500], [1400, 294450], [2530, 830000], [1280, 473000], [1320, 425000], [3260, 820000], [710, 187250], [820, 260000], [1610, 648000], [2100, 800000], [1850, 670000], [1300, 219950], [1350, 428000], [2030, 404000], [1810, 520000], [1850, 290000], [2360, 730000], [4720, 860000], [1910, 850000], [2260, 675000], [1080, 207000], [890, 199990], [4610, 750000], [2090, 300000], [1920, 433000], [3140, 915000], [1670, 268500], [2560, 465000], [2720, 365000], [1350, 626000], [1140, 660000], [1760, 810000], [2050, 399950], [1720, 547500], [730, 306950], [3740, 789000], [1330, 202200], [1520, 517500], [1210, 235000], [1650, 320000], [810, 170000], [3340, 655000], [2500, 705000], [1580, 280000], [2190, 702000], [1190, 312000], [1360, 225000], [2040, 200126], [1940, 274000], [1420, 335000], [2630, 525000], [1960, 599000], [2480, 780000], [2260, 632000], [1470, 475000], [1050, 199000], [1650, 547500], [1180, 194000], [860, 399000], [2270, 680000], [2330, 700000], [1210, 324950], [2610, 580000], [1450, 497000], [2350, 299000], [1720, 540000], [2770, 652427], [2130, 645000], [1220, 223000], [1390, 190500], [1740, 580000], [3710, 935000], [2130, 389000], [2040, 525000], [2630, 567000], [2660, 1230000], [1400, 180000], [1615, 665000], [1340, 450000], [3840, 1118000], [3180, 1227500], [2692, 435000], [1160, 490000], [2460, 563225], [2190, 294000], [750, 258000], [1750, 437000], [1070, 382000], [2340, 850000], [1370, 815000], [1770, 355000], [1660, 255000], [833, 517534], [1930, 421000], [1580, 475000], [2900, 354000], [1130, 204950], [1710, 561000], [1960, 575000], [2250, 308900], [2070, 262000], [2170, 585000], [2020, 390000], [3420, 725000], [3060, 753000], [1130, 325000], [2029, 384435], [1660, 375000], [1480, 250000], [2210, 590000], [1570, 360000], [2210, 412000], [910, 169000], [1080, 485000], [1820, 277500], [760, 122000], [2870, 802000], [2050, 745000], [2200, 305000], [3150, 762500], [2400, 650000], [1920, 360000], [2160, 445000], [1400, 232000], [2730, 678000], [1460, 427005], [4500, 2340000], [1900, 245000], [940, 356000], [2310, 1110000], [1420, 421000], [1560, 324950], [3276, 720000], [1460, 316500], [840, 151100], [1840, 274900], [1390, 610000], [2060, 810000], [3140, 810000], [4190, 1150000], [3400, 1050000], [1360, 250000], [1240, 825000], [3230, 795000], [2740, 675000], [1650, 433190], [3890, 1600000], [3000, 800000], [1350, 525000], [1360, 450000], [2090, 315000], [2260, 865000], [3820, 1215000], [1310, 526500], [4310, 1130000], [1390, 267500], [2300, 1000000], [1400, 303000], [2000, 323000], [2130, 395000], [2160, 601000], [900, 315000], [2530, 375000], [2475, 335900], [2000, 561000], [1620, 780000], [2210, 415000], [2720, 594950], [2430, 585000], [2060, 648752], [1240, 234000], [2950, 554950], [2780, 449900], [3180, 1411600], [3970, 2300000], [1060, 349950], [630, 190000], [2660, 1901000], [1690, 235000], [1940, 324000], [1510, 360000], [1710, 247500], [1680, 350000], [1950, 375000], [1440, 330000], [2370, 411000], [1600, 785000], [3600, 660000], [1340, 210000], [3580, 600000], [1680, 274000], [1020, 455000], [1400, 358500], [2870, 570000], [2000, 470000], [1900, 650000], [2200, 349900], [1350, 450000], [1530, 410000], [1020, 290000], [1190, 260000], [2670, 465750], [1520, 269950], [6160, 1275000], [3440, 1305000], [2520, 750000], [1710, 513000], [3010, 659950], [1370, 255500], [2310, 515000], [1300, 675000], [2180, 625000], [1820, 275000], [2160, 671500], [2800, 380000], [3510, 935000], [1100, 241450], [2100, 548000], [2300, 650000], [2550, 1095000], [1280, 193000], [3830, 852500], [1640, 575950], [3190, 585000], [2160, 750000], [920, 210000], [940, 180000], [1070, 350000], [1160, 317000], [1300, 270000], [4410, 1240000], [2370, 603000], [1520, 386500], [4080, 825000], [1840, 360000], [2210, 470000], [3320, 769000], [2660, 1712750], [2390, 606000], [2560, 675000], [2360, 459000], [2430, 445000], [1720, 385000], [2350, 585000], [1230, 175000], [1100, 340000], [2060, 323400], [2420, 725000], [730, 114000], [2690, 597157], [2570, 397500], [700, 248000], [2190, 452000], [1050, 420000], [1954, 340000], [2720, 1062000], [1620, 620000], [3010, 700000], [2905, 365000], [2200, 432000], [2190, 370000], [960, 457500], [3800, 894000], [2630, 968000], [1100, 423000], [6200, 1959000], [1131, 394950], [2000, 310597], [2190, 770000], [1300, 750000], [2820, 750000], [1820, 320000], [2350, 426950], [2760, 459950], [1320, 232500], [810, 285000], [1610, 450000], [1910, 230000], [1840, 415000], [2820, 485000], [1000, 220000], [1159, 582500], [2150, 597500], [1470, 337000], [1630, 360400], [2490, 705380], [2720, 840000], [2350, 895000], [2610, 535000], [1530, 443000], [1610, 250000], [1510, 250000], [1861, 499000], [970, 219000], [1890, 750000], [2760, 675000], [2510, 664000], [1170, 405000], [2370, 351000], [2760, 492500], [2990, 575000], [1900, 536000], [1720, 460000], [3510, 540000], [2400, 839000], [2400, 390000], [1000, 305000], [3250, 486940], [2210, 250250], [1710, 305000], [2510, 410000], [3640, 1595000], [4570, 1484900], [830, 393000], [1790, 251100], [3260, 1880000], [970, 495000], [2550, 645000], [2680, 622000], [2605, 1017000], [1130, 631500], [960, 330000], [1150, 307000], [880, 130000], [2280, 665000], [3340, 690000], [2650, 415000], [3270, 485000], [1240, 192000], [2570, 339990], [2210, 639000], [4490, 689000], [2720, 875000], [1360, 244900], [2260, 350000], [2090, 449000], [1120, 227950], [3500, 865000], [1000, 390000], [1670, 875000], [1640, 669000], [1540, 315000], [1150, 115000], [2380, 550000], [1390, 208800], [1760, 355000], [1430, 175000], [2000, 300000], [820, 300000], [1430, 453000], [1810, 272000], [3430, 740000], [1970, 323000], [1130, 179950], [1610, 440000], [820, 265000], [1160, 190000], [1530, 247500], [3350, 720500], [1660, 295000], [1360, 222000], [3610, 587000], [2450, 952000], [1340, 417000], [3850, 915000], [780, 270950], [2650, 340000], [2630, 650000], [2050, 540000], [3223, 469950], [2500, 620000], [1770, 439950], [1780, 240000], [1990, 245000], [3810, 515000], [2260, 325000], [3930, 1200000], [2710, 370000], [2140, 495000], [2610, 750000], [1100, 190000], [1120, 708000], [1980, 307550], [4340, 537500], [1280, 500000], [1460, 700000], [1300, 430000], [2810, 675000], [1750, 322000], [2090, 424950], [1921, 245000], [3480, 1850000], [1700, 570000], [1690, 281000], [2380, 705000], [1430, 505000], [2680, 788000], [1120, 395300], [2720, 740000], [1610, 282000], [2920, 1540000], [950, 490000], [2760, 495000], [2300, 525000], [1210, 132825], [2620, 775000], [3740, 1080000], [1840, 310000], [1230, 179900], [2280, 653675], [2030, 359500], [1840, 275000], [1510, 225900], [3020, 1400000], [1560, 459000], [2320, 325900], [1240, 275000], [1590, 225500], [3390, 735000], [1730, 269000], [1640, 505400], [1990, 285000], [1120, 345000], [1380, 249900], [4225, 1005000], [1770, 585000], [2110, 280000], [2100, 480000], [1030, 326000], [2130, 700000], [1550, 623500], [1690, 440000], [1590, 518000], [3180, 859950], [3510, 900000], [1330, 1050000], [2580, 935000], [1900, 535800], [2710, 482000], [1470, 652000], [1430, 429000], [1580, 296500], [3030, 740000], [3110, 799990], [2730, 545000], [3020, 879950], [1580, 259000], [1420, 679000], [2850, 760000], [1390, 185000], [3280, 750000], [1380, 345000], [1010, 269000], [2330, 270000], [2980, 374900], [620, 425000], [1800, 580000], [1870, 664000], [3610, 968000], [1710, 475000], [1630, 339950], [1010, 199950], [2300, 500000], [1200, 450000], [3590, 879000], [1500, 308625], [2390, 650000], [2120, 719000], [2290, 359950], [2470, 356000], [4800, 1975000], [1270, 401000], [2050, 439500], [2010, 400000], [1870, 289950], [1078, 240000], [1600, 205000], [850, 460000], [1660, 635500], [3080, 560000], [3140, 389950], [1220, 452000], [2420, 665000], [3860, 820875], [1260, 245000], [1010, 185000], [3180, 914600], [2440, 330000], [1390, 270000], [2730, 345000], [1200, 220000], [1340, 279950], [3530, 1095000], [1400, 395000], [1400, 265000], [1270, 400000], [1260, 277500], [2160, 670000], [2900, 696000], [1920, 900000], [1860, 860000], [1310, 306500], [2300, 705000], [2630, 585000], [3290, 739900], [1610, 263500], [1580, 264500], [5170, 1680000], [2050, 375000], [2710, 830000], [2910, 549000], [1930, 570000], [2610, 674600], [1120, 225000], [1330, 500000], [2710, 539500], [1420, 241400], [1090, 310000], [2150, 419950], [2760, 952000], [2680, 499000], [1800, 437718], [1540, 395000], [1850, 248000], [1610, 218000], [2100, 323000], [2070, 578000], [1450, 274950], [2110, 490000], [1129, 330000], [920, 179000], [1490, 320000], [990, 120000], [1570, 272950], [1430, 375000], [1340, 281000], [3070, 575000], [1650, 334009], [1522, 407500], [3470, 672500], [1730, 280400], [1570, 417000], [2420, 389000], [1360, 352500], [2580, 481000], [1170, 335000], [2770, 890000], [2350, 400000], [3440, 430000], [3860, 903000], [2130, 283000], [3610, 1010800], [1580, 320000], [2720, 873000], [1480, 215000], [1070, 543000], [1480, 370000], [3410, 1100005], [1570, 500000], [2490, 700000], [2380, 439950], [1310, 241500], [1550, 426000], [1920, 245000], [1940, 330000], [3680, 1378000], [2260, 532000], [2460, 485000], [960, 137124], [930, 190000], [1460, 465000], [1350, 567500], [2900, 670000], [3450, 590000], [2390, 978000], [4240, 1160000], [1870, 520000], [1570, 530000], [1670, 325000], [1520, 460000], [1760, 235000], [2020, 366000], [1480, 260000], [1980, 449000], [1630, 550000], [1300, 315000], [2690, 307450], [1450, 525000], [1410, 367500], [2380, 357000], [3160, 427500], [2520, 387846], [1780, 499000], [910, 219900], [800, 110000], [1550, 835000], [2844, 359950], [1910, 746000], [2440, 519950], [2810, 674000], [1780, 370000], [1560, 915000], [3910, 961500], [1260, 282000], [920, 514000], [1010, 255000], [1790, 430000], [1120, 260000], [2780, 1650000], [3050, 890000], [2450, 450000], [2070, 550000], [1870, 350000], [3110, 1500000], [1740, 545000], [2280, 540000], [2990, 900000], [2210, 314000], [1720, 383000], [2210, 648000], [2150, 380000], [2020, 475000], [730, 81000], [910, 244500], [2920, 675900], [2100, 424000], [2300, 452000], [3240, 789500], [2420, 870000], [2430, 471500], [1690, 457000], [2880, 845000], [1440, 656000], [2620, 355000], [2480, 560000], [2242, 490000], [1880, 405000], [2030, 287500], [3040, 691000], [1680, 289000], [3120, 730100], [1860, 370000], [4510, 960000], [4040, 1650000], [1970, 575000], [1490, 275000], [1630, 330950], [670, 340000], [1890, 521000], [1860, 590000], [920, 215150], [1260, 499000], [1180, 517000], [3880, 1030000], [1430, 224500], [2460, 620000], [2480, 415000], [1790, 584000], [2050, 398000], [980, 550000], [3090, 734000], [960, 435000], [2110, 565000], [2320, 900000], [1690, 400375], [1540, 420000], [1310, 249900], [2860, 1200000], [3130, 937500], [1610, 495000], [1720, 430000], [1290, 790000], [2230, 679950], [3190, 865000], [960, 205000], [4290, 1160000], [1330, 372000], [2230, 500000], [2280, 700000], [1580, 480000], [1570, 500000], [1770, 370000], [1410, 429000], [4070, 965000], [2110, 650000], [1140, 329950], [690, 139000], [2780, 834500], [2090, 489000], [1470, 262500], [1920, 625000], [1350, 410000], [2770, 910000], [1340, 550000], [2040, 1320000], [2110, 475000], [4240, 1049990], [2590, 695000], [700, 367000], [1750, 190000], [2910, 749950], [1540, 759600], [1330, 535000], [2190, 1565000], [2860, 799000], [2540, 750000], [1960, 434400], [2690, 699850], [1610, 395000], [2540, 799990], [2910, 600000], [4110, 925000], [1190, 441000], [1220, 300000], [1050, 521000], [2680, 775000], [1390, 450000], [2740, 510000], [3030, 608250], [1490, 263000], [2590, 550000], [2870, 480000], [2630, 631000], [3910, 470000], [2800, 442500], [2320, 934550], [3020, 465000], [2570, 675000], [1650, 453000], [2560, 399500], [810, 325000], [4280, 1900000], [6550, 1500000], [1870, 380000], [2460, 835000], [600, 135000], [1060, 215000], [2090, 383000], [2740, 705000], [1600, 315000], [1990, 619000], [3670, 796000], [990, 208000], [1910, 395000], [5040, 1284000], [1390, 270000], [1870, 355000], [3230, 572115], [1530, 500000], [1640, 540000], [1300, 312000], [1980, 395000], [2410, 287000], [750, 258000], [3260, 538000], [2420, 590000], [1870, 314500], [2100, 375000], [2380, 574000], [1954, 235245], [2960, 550000], [1350, 595000], [2080, 695000], [1990, 260000], [1170, 393820]], \"columns\": [{\"dtype\": \"str\", \"name\": \"id\"}, {\"dtype\": \"datetime\", \"name\": \"date\"}, {\"dtype\": \"int\", \"name\": \"price\"}, {\"dtype\": \"str\", \"name\": \"bedrooms\"}, {\"dtype\": \"str\", \"name\": \"bathrooms\"}, {\"dtype\": \"int\", \"name\": \"sqft_living\"}, {\"dtype\": \"int\", \"name\": \"sqft_lot\"}, {\"dtype\": \"str\", \"name\": \"floors\"}, {\"dtype\": \"int\", \"name\": \"waterfront\"}, {\"dtype\": \"int\", \"name\": \"view\"}, {\"dtype\": \"int\", \"name\": \"condition\"}, {\"dtype\": \"int\", \"name\": \"grade\"}, {\"dtype\": \"int\", \"name\": \"sqft_above\"}, {\"dtype\": \"int\", \"name\": \"sqft_basement\"}, {\"dtype\": \"int\", \"name\": \"yr_built\"}, {\"dtype\": \"int\", \"name\": \"yr_renovated\"}, {\"dtype\": \"str\", \"name\": \"zipcode\"}, {\"dtype\": \"float\", \"name\": \"lat\"}, {\"dtype\": \"float\", \"name\": \"long\"}, {\"dtype\": \"float\", \"name\": \"sqft_living15\"}, {\"dtype\": \"float\", \"name\": \"sqft_lot15\"}]}, e);\n",
       "                });\n",
       "            })();\n",
       "        "
      ]
     },
     "metadata": {},
     "output_type": "display_data"
    }
   ],
   "source": [
    "Train.show(view = 'Scatter Plot', x = \"sqft_living\",  y = \"price\" )"
   ]
  },
  {
   "cell_type": "code",
   "execution_count": 63,
   "metadata": {
    "collapsed": false
   },
   "outputs": [
    {
     "data": {
      "application/javascript": [
       "$(\"head\").append($(\"<link/>\").attr({\n",
       "  rel:  \"stylesheet\",\n",
       "  type: \"text/css\",\n",
       "  href: \"//cdnjs.cloudflare.com/ajax/libs/font-awesome/4.1.0/css/font-awesome.min.css\"\n",
       "}));\n",
       "$(\"head\").append($(\"<link/>\").attr({\n",
       "  rel:  \"stylesheet\",\n",
       "  type: \"text/css\",\n",
       "  href: \"//dato.com/files/canvas/1.8/css/canvas.css\"\n",
       "}));\n",
       "\n",
       "            (function(){\n",
       "\n",
       "                var e = null;\n",
       "                if (typeof element == 'undefined') {\n",
       "                    var scripts = document.getElementsByTagName('script');\n",
       "                    var thisScriptTag = scripts[scripts.length-1];\n",
       "                    var parentDiv = thisScriptTag.parentNode;\n",
       "                    e = document.createElement('div');\n",
       "                    parentDiv.appendChild(e);\n",
       "                } else {\n",
       "                    e = element[0];\n",
       "                }\n",
       "\n",
       "                if (typeof requirejs !== 'undefined') {\n",
       "                    // disable load timeout; ipython_app.js is large and can take a while to load.\n",
       "                    requirejs.config({waitSeconds: 0});\n",
       "                }\n",
       "\n",
       "                require(['//dato.com/files/canvas/1.8/js/ipython_app.js'], function(IPythonApp){\n",
       "                    var app = new IPythonApp();\n",
       "                    app.attachView('sframe','Plots', {\"selected_variable\": {\"name\": [\"Test\"], \"descriptives\": {\"rows\": 4229, \"columns\": 21}, \"view_component\": \"Plots\", \"view_file\": \"sframe\", \"view_params\": {\"y\": \"price\", \"x\": \"sqft_living\", \"columns\": [\"id\", \"date\", \"price\", \"bedrooms\", \"bathrooms\", \"sqft_living\", \"sqft_lot\", \"floors\", \"waterfront\", \"view\", \"condition\", \"grade\", \"sqft_above\", \"sqft_basement\", \"yr_built\", \"yr_renovated\", \"zipcode\", \"lat\", \"long\", \"sqft_living15\", \"sqft_lot15\"], \"view\": \"Scatter Plot\"}, \"view_components\": [\"Summary\", \"Table\", \"Bar Chart\", \"BoxWhisker Plot\", \"Line Chart\", \"Scatter Plot\", \"Heat Map\", \"Plots\"], \"type\": \"SFrame\", \"columns\": [{\"dtype\": \"str\", \"name\": \"id\"}, {\"dtype\": \"datetime\", \"name\": \"date\"}, {\"dtype\": \"int\", \"name\": \"price\"}, {\"dtype\": \"str\", \"name\": \"bedrooms\"}, {\"dtype\": \"str\", \"name\": \"bathrooms\"}, {\"dtype\": \"int\", \"name\": \"sqft_living\"}, {\"dtype\": \"int\", \"name\": \"sqft_lot\"}, {\"dtype\": \"str\", \"name\": \"floors\"}, {\"dtype\": \"int\", \"name\": \"waterfront\"}, {\"dtype\": \"int\", \"name\": \"view\"}, {\"dtype\": \"int\", \"name\": \"condition\"}, {\"dtype\": \"int\", \"name\": \"grade\"}, {\"dtype\": \"int\", \"name\": \"sqft_above\"}, {\"dtype\": \"int\", \"name\": \"sqft_basement\"}, {\"dtype\": \"int\", \"name\": \"yr_built\"}, {\"dtype\": \"int\", \"name\": \"yr_renovated\"}, {\"dtype\": \"str\", \"name\": \"zipcode\"}, {\"dtype\": \"float\", \"name\": \"lat\"}, {\"dtype\": \"float\", \"name\": \"long\"}, {\"dtype\": \"float\", \"name\": \"sqft_living15\"}, {\"dtype\": \"float\", \"name\": \"sqft_lot15\"}], \"column_identifiers\": [\"bathrooms\", \"sqft_living15\", \"sqft_above\", \"grade\", \"yr_built\", \"price\", \"bedrooms\", \"zipcode\", \"long\", \"id\", \"sqft_lot15\", \"sqft_living\", \"floors\", \"sqft_lot\", \"date\", \"waterfront\", \"sqft_basement\", \"yr_renovated\", \"lat\", \"condition\", \"view\"]}, \"complete\": 1, \"ipython\": true, \"progress\": 1.0, \"data\": [[3080, 440000], [840, 202000], [1710, 233000], [3250, 800000], [1090, 535000], [2170, 260000], [2740, 1105000], [2190, 450000], [2820, 810000], [1510, 254000], [2380, 582000], [1610, 249900], [2800, 1465000], [2380, 529000], [1010, 248000], [1890, 430000], [2220, 374000], [3300, 1350000], [2300, 592000], [1000, 217000], [880, 376000], [2920, 1065000], [1930, 330675], [2590, 479000], [1830, 410000], [1930, 345500], [1280, 545000], [1530, 474000], [3260, 552500], [1310, 470000], [910, 274250], [1500, 170000], [2700, 810000], [1200, 480000], [3650, 680000], [2716, 452000], [1720, 264950], [3760, 1025000], [2510, 600000], [1710, 362500], [2100, 525000], [1120, 425000], [1700, 210000], [3206, 375000], [3920, 827500], [3830, 2050000], [1940, 685000], [2060, 264500], [2560, 825000], [1370, 190000], [1360, 244000], [1010, 286000], [850, 295000], [1970, 297000], [2950, 825750], [1550, 266000], [1440, 328000], [1240, 232000], [3630, 400000], [1800, 493500], [2490, 940000], [1640, 759000], [1410, 410000], [1460, 400000], [1788, 294400], [1400, 510250], [560, 299000], [2870, 399000], [990, 437500], [3770, 950000], [2060, 647500], [920, 203000], [2750, 725000], [2180, 315000], [1530, 245000], [2060, 885000], [2120, 403950], [1540, 345000], [1600, 330000], [2070, 880000], [2300, 612000], [3170, 1035000], [910, 221000], [1510, 650000], [1920, 542500], [5000, 1250000], [2200, 423000], [1980, 432500], [2350, 1300000], [1640, 190000], [1010, 400000], [2280, 577500], [3360, 834995], [1220, 333500], [2360, 1325000], [2570, 348000], [1850, 325000], [2270, 340500], [2390, 699950], [630, 315000], [4860, 1385000], [1420, 294000], [3000, 780000], [1310, 405000], [1140, 455000], [4250, 465000], [1330, 240000], [1330, 290000], [1550, 433000], [1190, 288000], [750, 250000], [1040, 204000], [1710, 295000], [1970, 346900], [5403, 2125000], [2660, 495000], [910, 405000], [1330, 234999], [1800, 449950], [2210, 240000], [1910, 565000], [1830, 338900], [1805, 266000], [1210, 305000], [1820, 265000], [1830, 460000], [3220, 763000], [3200, 1220000], [3560, 1364000], [3100, 590000], [2200, 396800], [3000, 887000], [1070, 415000], [2110, 603000], [3480, 810000], [3990, 1068000], [3180, 1000000], [2095, 292500], [2440, 720000], [1670, 490000], [1830, 524950], [2400, 420000], [1740, 395000], [2870, 872750], [2900, 690000], [980, 435000], [2200, 358000], [1680, 619500], [2750, 333000], [2170, 399000], [2440, 700000], [3560, 790000], [4168, 442000], [2480, 540000], [2570, 625700], [3760, 1375000], [2200, 460000], [1170, 459000], [2010, 650000], [2850, 650000], [1220, 280500], [2400, 856600], [2120, 575000], [3680, 679000], [1200, 390000], [970, 261000], [960, 290000], [2090, 460000], [2270, 575000], [1330, 249950], [1630, 422120], [2370, 387865], [1890, 506500], [1210, 500000], [1100, 240000], [2420, 429000], [1350, 430000], [1760, 554000], [2390, 450000], [1830, 433000], [1320, 275000], [1110, 440150], [3360, 740000], [1380, 295000], [2200, 930000], [1390, 657100], [1500, 405000], [1940, 480000], [1230, 209000], [2160, 433000], [1540, 550000], [1690, 500000], [1900, 360000], [2190, 289950], [2310, 685000], [2370, 540000], [1810, 260000], [1270, 299000], [2970, 469500], [1120, 399000], [1230, 479000], [2020, 633000], [740, 178500], [1100, 505000], [1640, 478000], [2000, 427000], [1480, 580000], [1320, 500000], [1920, 554000], [3560, 907687], [820, 197500], [1890, 240000], [1560, 590000], [1920, 515000], [2690, 1298888], [1070, 147000], [2440, 954500], [1190, 250000], [1790, 515000], [1990, 536000], [2720, 690000], [1800, 365000], [3560, 435000], [2010, 960000], [1720, 555000], [2750, 395000], [1450, 339000], [2960, 367000], [1400, 250000], [2880, 1100000], [2780, 700000], [1090, 425000], [1800, 632750], [2610, 575000], [2190, 525000], [4400, 1800000], [2290, 630000], [2430, 510000], [2340, 525000], [2750, 627000], [1380, 215500], [2300, 680000], [2020, 345000], [3220, 384000], [700, 152000], [1440, 339888], [1540, 357000], [2810, 479950], [920, 555500], [2490, 949000], [2150, 411000], [2770, 711000], [3630, 633000], [2280, 320000], [1360, 520000], [2030, 360000], [790, 435000], [2340, 645000], [2230, 368750], [1640, 775000], [2820, 461500], [1530, 387000], [1760, 317000], [1510, 310650], [2150, 609000], [1950, 449999], [2400, 590000], [2790, 665000], [1970, 352500], [4470, 2950000], [2580, 673000], [1510, 279950], [1380, 268000], [1360, 396500], [1370, 368000], [2080, 567500], [3150, 450000], [1720, 274500], [1080, 325000], [2440, 550000], [2670, 605000], [1981, 303700], [2370, 420000], [2070, 503000], [2790, 1131000], [1600, 393500], [2740, 651000], [1400, 267000], [3270, 560000], [2570, 1170000], [1360, 345000], [1720, 360000], [5230, 3400000], [980, 204000], [3330, 1375000], [1470, 602000], [1370, 168000], [2290, 660000], [1760, 715000], [1110, 229800], [1010, 215000], [1270, 346000], [2570, 254500], [2330, 344950], [1890, 359000], [1090, 158000], [1110, 406000], [2320, 518000], [2320, 370000], [1420, 335000], [1500, 425000], [5370, 1350000], [1970, 425500], [2100, 550000], [1730, 328423], [1580, 289000], [1510, 415000], [3100, 435000], [2360, 957500], [2300, 615000], [980, 340000], [2570, 654000], [3450, 685000], [1380, 322000], [1920, 443500], [1150, 332000], [2510, 400000], [1570, 195000], [1550, 372500], [2300, 900000], [1480, 560000], [990, 442000], [2610, 1575000], [860, 170000], [3830, 1850000], [2430, 560000], [2000, 320000], [2110, 435000], [1870, 310000], [2040, 561750], [1680, 286000], [1200, 260000], [840, 86500], [2490, 590000], [1390, 345000], [2710, 442500], [1790, 199900], [1610, 390000], [1084, 265000], [1310, 365000], [1090, 345000], [2330, 490000], [1740, 340000], [3010, 839950], [1300, 260000], [1670, 456000], [2270, 500000], [600, 110000], [1400, 337000], [2420, 774888], [2630, 600000], [2560, 1175000], [1400, 235000], [1630, 464000], [1230, 575000], [990, 325000], [960, 212625], [2020, 640000], [1220, 253000], [2030, 545000], [2880, 362000], [2260, 453250], [2080, 357500], [2360, 753000], [1730, 320000], [3620, 1525000], [1470, 510000], [1740, 580000], [1080, 805000], [1500, 490000], [1900, 685000], [2620, 765000], [2230, 770000], [840, 361500], [1020, 242500], [800, 388000], [1450, 300000], [2120, 379400], [1130, 325000], [2770, 685000], [1530, 649000], [1480, 200000], [1710, 380000], [1980, 306000], [1230, 410000], [1970, 429800], [1720, 535000], [1820, 265000], [2740, 779000], [2880, 1989000], [1400, 279000], [1260, 210000], [1000, 231500], [1010, 180000], [1160, 199500], [2760, 830000], [1380, 272000], [1980, 760000], [2190, 719950], [810, 235000], [2220, 542000], [2520, 650000], [1280, 549900], [1500, 485000], [810, 450000], [2150, 580000], [1580, 375000], [780, 200000], [2190, 349000], [1240, 150000], [1010, 400000], [1520, 450000], [2790, 695000], [2280, 712500], [1590, 339275], [1820, 350000], [2070, 1250000], [2970, 745000], [3430, 750000], [1220, 249900], [1600, 442500], [840, 308500], [2790, 723000], [1180, 299000], [1190, 229000], [5270, 782000], [1600, 308950], [2150, 470000], [2250, 550000], [1480, 511200], [1770, 400000], [4070, 993500], [2700, 749000], [2450, 1550000], [1820, 705000], [2400, 333000], [3650, 1518634], [910, 605000], [1180, 209950], [1610, 510000], [2680, 676000], [1880, 284000], [2170, 510000], [2980, 575000], [1220, 526000], [1440, 245000], [3090, 1000000], [1950, 430000], [1200, 234000], [1720, 275000], [4350, 900000], [1740, 399000], [1810, 799000], [1890, 570000], [1530, 620000], [1870, 485000], [1180, 289900], [2280, 750000], [2020, 370000], [2290, 625000], [2240, 608000], [1560, 305000], [1760, 500000], [3700, 540000], [2600, 482000], [3880, 1060000], [1540, 640000], [2430, 372000], [1800, 334998], [1530, 469775], [950, 325000], [1940, 322500], [1680, 258000], [2890, 1170000], [3510, 1370000], [1400, 699000], [2900, 785000], [2950, 992000], [1700, 335000], [780, 306000], [1390, 272000], [1710, 368000], [1280, 465000], [3480, 590000], [1640, 440000], [770, 385000], [1068, 207000], [3960, 1220000], [3190, 1050000], [1750, 370000], [2420, 771000], [2320, 384000], [2240, 309000], [1840, 285000], [1480, 479000], [980, 575000], [1480, 650000], [1400, 340000], [1050, 194000], [3200, 490000], [2380, 570000], [2420, 649950], [2310, 327500], [2310, 785000], [1040, 314950], [1750, 499000], [3430, 1202500], [2240, 220000], [2130, 220000], [2290, 347500], [1590, 285000], [1230, 425000], [2580, 620000], [1880, 565000], [670, 390000], [2290, 661254], [2000, 402000], [1070, 299000], [1160, 380000], [2060, 420000], [1480, 395000], [1940, 635000], [3770, 872000], [3360, 950000], [1190, 390000], [2980, 350000], [2150, 392500], [2320, 307000], [3130, 598000], [1750, 456150], [2090, 400000], [2270, 292000], [2240, 415000], [910, 85000], [1930, 432500], [3080, 569999], [1740, 410000], [1890, 298500], [1910, 475000], [2930, 600000], [1540, 278500], [2710, 535000], [2970, 726000], [2170, 913000], [2090, 465000], [2040, 325900], [1730, 275000], [1440, 437000], [2350, 495000], [1900, 335000], [1070, 265000], [1350, 237500], [3440, 550000], [1830, 600000], [770, 265000], [3290, 799000], [2160, 305000], [2250, 395000], [3080, 1400000], [3730, 649500], [1400, 399950], [2300, 610000], [1040, 217450], [4300, 1450000], [3070, 535000], [2740, 699000], [2770, 283450], [1340, 474905], [3800, 630000], [2286, 481000], [2060, 509500], [700, 254950], [2030, 305000], [1690, 430000], [1630, 375000], [1300, 455000], [1200, 160000], [2150, 355000], [2031, 335000], [4420, 2700000], [2690, 760000], [4140, 810000], [2190, 419000], [1290, 492000], [1630, 265000], [2690, 500000], [1210, 570000], [4640, 1267500], [1800, 335620], [2732, 480000], [2130, 802000], [2280, 649800], [1730, 315000], [3400, 715000], [1100, 441000], [2540, 945000], [2590, 300000], [2520, 780000], [1820, 367000], [2470, 565000], [3930, 1799000], [1180, 425000], [2030, 595000], [1700, 410000], [2120, 329500], [1650, 472500], [1610, 715000], [1060, 310000], [4720, 745000], [2100, 540000], [1960, 759000], [1520, 430000], [1850, 475000], [880, 330000], [2340, 485000], [2230, 700000], [1330, 295000], [1108, 369500], [2590, 533000], [2350, 1195000], [1340, 303000], [5080, 1900000], [1550, 440000], [2798, 499950], [1410, 541000], [1280, 296500], [1660, 650000], [1580, 551000], [2950, 424900], [2120, 300000], [2280, 1325000], [2300, 294000], [1370, 667000], [2490, 950000], [1530, 418000], [2190, 464950], [3010, 879950], [1400, 507250], [990, 335000], [1840, 465000], [2570, 625000], [1520, 470000], [1950, 392500], [2340, 716500], [2920, 810000], [3000, 380000], [3906, 549950], [1920, 781000], [5610, 1583000], [1120, 320000], [2410, 1321625], [2360, 590000], [3800, 549900], [3440, 905000], [1910, 1500000], [1880, 334950], [3180, 340000], [1570, 835000], [1760, 410000], [2460, 425000], [2450, 559950], [2530, 785950], [3890, 970000], [1760, 579000], [1060, 275000], [1270, 386100], [1170, 200000], [1910, 835000], [1540, 370000], [1200, 420000], [1560, 579000], [1530, 439000], [2200, 1100000], [4410, 1437500], [3350, 1110000], [1670, 274950], [970, 303000], [3020, 845800], [1680, 525000], [2710, 591000], [1990, 542000], [4220, 1165000], [2160, 750000], [970, 209950], [1860, 217000], [1860, 967000], [2240, 440000], [4740, 1200000], [2690, 469000], [1830, 400000], [930, 287000], [3650, 1575000], [2120, 436000], [3020, 354000], [2910, 870000], [1270, 540000], [2750, 360000], [3820, 830000], [2730, 599000], [2230, 340000], [940, 325000], [1870, 933000], [1390, 290000], [2190, 920000], [2010, 500000], [1370, 548000], [900, 249500], [2040, 355000], [990, 269950], [1180, 207000], [2980, 817250], [1150, 717000], [1410, 406100], [1020, 485000], [2410, 1440000], [1820, 350000], [3730, 599950], [2740, 672800], [2480, 1013050], [1870, 455000], [1520, 640000], [840, 360000], [1590, 305000], [760, 300000], [2690, 775000], [1900, 520500], [1720, 583500], [1410, 211000], [2620, 672000], [1490, 312500], [3180, 1325000], [2000, 474500], [2500, 411000], [3960, 1180000], [1520, 533250], [2770, 749950], [1000, 311300], [2670, 669950], [2500, 430000], [2610, 608000], [1460, 1010000], [2100, 309900], [3620, 856000], [1400, 231200], [2570, 889000], [1030, 367500], [2300, 400000], [2850, 710000], [1240, 471000], [2870, 690700], [3040, 825000], [960, 345000], [810, 253500], [4050, 1288000], [1200, 222400], [2230, 549950], [1080, 124000], [2580, 1099500], [2720, 790000], [1840, 190000], [1100, 395000], [2240, 805000], [3410, 800000], [1650, 443000], [1240, 352900], [2720, 408500], [6530, 1600000], [980, 550000], [3280, 734500], [1070, 455000], [1970, 432000], [1340, 265000], [2440, 459000], [2300, 453500], [2120, 582000], [1490, 368888], [1380, 450000], [1780, 250000], [1990, 359000], [1670, 697000], [2940, 780000], [2860, 530000], [2390, 269950], [2437, 285000], [2180, 488000], [3080, 2160000], [1920, 502000], [2730, 350000], [1820, 539950], [1360, 255000], [1470, 380000], [1540, 485000], [1870, 559950], [1180, 220000], [3190, 760750], [1770, 286000], [2860, 825050], [3380, 1346400], [1460, 580000], [1970, 690000], [480, 145000], [1600, 390000], [2090, 725000], [2390, 926250], [1460, 244000], [1310, 300000], [1340, 215000], [1320, 540000], [3800, 380000], [2490, 572500], [1900, 715000], [2680, 698000], [2910, 585083], [1160, 422000], [2010, 605000], [1920, 455000], [1320, 304000], [1680, 526000], [3160, 650000], [1820, 455850], [2200, 480000], [1000, 220000], [2010, 245000], [3790, 2200000], [2050, 790000], [1410, 415000], [880, 427550], [2200, 325000], [2130, 310000], [1900, 512500], [790, 315000], [1520, 672600], [1740, 340000], [4140, 950000], [2580, 499950], [2980, 690000], [1870, 275000], [2140, 998500], [3340, 311000], [3140, 585000], [1920, 429000], [1560, 544300], [1540, 257000], [1650, 550000], [720, 185000], [5220, 1481000], [3230, 1260000], [1520, 650000], [860, 227000], [2050, 451000], [3610, 870000], [2510, 881000], [1960, 500000], [1660, 279000], [1050, 235000], [1780, 625000], [3080, 585000], [1480, 335000], [1600, 280000], [1610, 565000], [950, 520000], [1830, 494000], [2380, 735000], [1540, 160000], [1420, 425000], [3360, 850000], [1260, 665000], [3680, 595000], [1710, 332544], [2610, 665000], [5000, 1450000], [4420, 730000], [1740, 280000], [1910, 630100], [2250, 350000], [1690, 498000], [910, 455000], [3120, 444900], [1980, 435000], [2770, 650000], [2670, 465000], [2200, 376000], [4130, 998000], [1860, 450000], [1640, 700000], [1790, 603000], [2930, 718000], [1380, 329900], [2400, 585000], [1700, 250000], [2560, 790000], [1030, 525000], [2130, 325000], [880, 615000], [3290, 520000], [1850, 268000], [1700, 534500], [2760, 424950], [3080, 1655000], [1420, 260000], [1700, 475000], [2900, 352000], [1780, 261000], [1770, 325000], [5150, 1378000], [2650, 580000], [1220, 245000], [3240, 750000], [840, 306500], [2300, 765000], [1450, 465000], [1360, 415000], [940, 246500], [2680, 653000], [1860, 775000], [1140, 277000], [1260, 630000], [1930, 339500], [2080, 315000], [3440, 598992], [1390, 417500], [2670, 865000], [1540, 659000], [3010, 745000], [2110, 260000], [1760, 720000], [3370, 713900], [1830, 429950], [990, 222500], [2090, 274000], [1910, 650000], [1690, 295000], [3300, 1105000], [1060, 340000], [930, 105500], [2310, 362000], [2060, 418500], [2050, 300000], [1880, 452000], [1940, 265000], [1833, 719000], [1660, 315000], [5584, 1680000], [1010, 525000], [3090, 751000], [2710, 740000], [1400, 419500], [1850, 623000], [1970, 315000], [1900, 579000], [3150, 727000], [2120, 690000], [3850, 995000], [1730, 268000], [1690, 440000], [1270, 259000], [2190, 700000], [2340, 572000], [2720, 685000], [960, 208000], [1730, 325000], [3600, 870515], [1400, 340000], [1700, 349950], [1380, 473000], [700, 199950], [3080, 365000], [1530, 607500], [2760, 500000], [2120, 490000], [1640, 500000], [2200, 547000], [3270, 735000], [1430, 198000], [2150, 317500], [1990, 872500], [1810, 355000], [2430, 402000], [1110, 600000], [1370, 605004], [3140, 925850], [2880, 680000], [5990, 1525000], [1550, 250000], [1090, 219500], [1358, 317000], [1760, 194000], [1740, 349000], [2460, 427500], [2910, 504058]], \"columns\": [{\"dtype\": \"str\", \"name\": \"id\"}, {\"dtype\": \"datetime\", \"name\": \"date\"}, {\"dtype\": \"int\", \"name\": \"price\"}, {\"dtype\": \"str\", \"name\": \"bedrooms\"}, {\"dtype\": \"str\", \"name\": \"bathrooms\"}, {\"dtype\": \"int\", \"name\": \"sqft_living\"}, {\"dtype\": \"int\", \"name\": \"sqft_lot\"}, {\"dtype\": \"str\", \"name\": \"floors\"}, {\"dtype\": \"int\", \"name\": \"waterfront\"}, {\"dtype\": \"int\", \"name\": \"view\"}, {\"dtype\": \"int\", \"name\": \"condition\"}, {\"dtype\": \"int\", \"name\": \"grade\"}, {\"dtype\": \"int\", \"name\": \"sqft_above\"}, {\"dtype\": \"int\", \"name\": \"sqft_basement\"}, {\"dtype\": \"int\", \"name\": \"yr_built\"}, {\"dtype\": \"int\", \"name\": \"yr_renovated\"}, {\"dtype\": \"str\", \"name\": \"zipcode\"}, {\"dtype\": \"float\", \"name\": \"lat\"}, {\"dtype\": \"float\", \"name\": \"long\"}, {\"dtype\": \"float\", \"name\": \"sqft_living15\"}, {\"dtype\": \"float\", \"name\": \"sqft_lot15\"}]}, e);\n",
       "                });\n",
       "            })();\n",
       "        "
      ]
     },
     "metadata": {},
     "output_type": "display_data"
    }
   ],
   "source": [
    "Test.show(view = 'Scatter Plot', x = \"sqft_living\",  y = \"price\" )"
   ]
  },
  {
   "cell_type": "code",
   "execution_count": 64,
   "metadata": {
    "collapsed": false
   },
   "outputs": [
    {
     "name": "stdout",
     "output_type": "stream",
     "text": [
      "PROGRESS: Creating a validation set from 5 percent of training data. This may take a while.\n",
      "          You can set ``validation_set=None`` to disable validation tracking.\n",
      "\n",
      "PROGRESS: Linear regression:\n",
      "PROGRESS: --------------------------------------------------------\n",
      "PROGRESS: Number of examples          : 16483\n",
      "PROGRESS: Number of features          : 1\n",
      "PROGRESS: Number of unpacked features : 1\n",
      "PROGRESS: Number of coefficients    : 2\n",
      "PROGRESS: Starting Newton Method\n",
      "PROGRESS: --------------------------------------------------------\n",
      "PROGRESS: +-----------+----------+--------------+--------------------+----------------------+---------------+-----------------+\n",
      "PROGRESS: | Iteration | Passes   | Elapsed Time | Training-max_error | Validation-max_error | Training-rmse | Validation-rmse |\n",
      "PROGRESS: +-----------+----------+--------------+--------------------+----------------------+---------------+-----------------+\n",
      "PROGRESS: | 1         | 2        | 0.003502     | 4319032.731436     | 1625876.062011       | 264081.501369 | 241500.905462   |\n",
      "PROGRESS: +-----------+----------+--------------+--------------------+----------------------+---------------+-----------------+\n",
      "PROGRESS: SUCCESS: Optimal solution found.\n",
      "PROGRESS:\n"
     ]
    }
   ],
   "source": [
    "sqft_model = graphlab.linear_regression.create(Train, target = 'price', features = ['sqft_living'])"
   ]
  },
  {
   "cell_type": "code",
   "execution_count": 65,
   "metadata": {
    "collapsed": false
   },
   "outputs": [
    {
     "name": "stdout",
     "output_type": "stream",
     "text": [
      "{'max_error': 4119535.4579562773, 'rmse': 255264.5274262777}\n"
     ]
    }
   ],
   "source": [
    "print sqft_model.evaluate(Test)"
   ]
  },
  {
   "cell_type": "code",
   "execution_count": 66,
   "metadata": {
    "collapsed": true
   },
   "outputs": [],
   "source": [
    "import matplotlib.pyplot as plt\n",
    "%matplotlib inline "
   ]
  },
  {
   "cell_type": "code",
   "execution_count": 67,
   "metadata": {
    "collapsed": false
   },
   "outputs": [
    {
     "data": {
      "text/plain": [
       "[<matplotlib.lines.Line2D at 0x7fbf52d7a6d0>,\n",
       " <matplotlib.lines.Line2D at 0x7fbf52d7a7d0>]"
      ]
     },
     "execution_count": 67,
     "metadata": {},
     "output_type": "execute_result"
    },
    {
     "data": {
      "image/png": "[encoded data removed]",
      "text/plain": [
       "<matplotlib.figure.Figure at 0x7fbf511d3090>"
      ]
     },
     "metadata": {},
     "output_type": "display_data"
    }
   ],
   "source": [
    "plt.plot( Test['sqft_living'], Test['price'], '.',\n",
    "          Test['sqft_living'], sqft_model.predict(Test), '-')"
   ]
  },
  {
   "cell_type": "code",
   "execution_count": 68,
   "metadata": {
    "collapsed": true
   },
   "outputs": [],
   "source": [
    "myfeatures = ['bedrooms','bathrooms','sqft_living', 'sqft_lot','floors','zipcode']"
   ]
  },
  {
   "cell_type": "code",
   "execution_count": 11,
   "metadata": {
    "collapsed": false
   },
   "outputs": [
    {
     "ename": "NameError",
     "evalue": "name 'myfeatures' is not defined",
     "output_type": "error",
     "traceback": [
      "\u001b[1;31m---------------------------------------------------------------------------\u001b[0m",
      "\u001b[1;31mNameError\u001b[0m                                 Traceback (most recent call last)",
      "\u001b[1;32m<ipython-input-11-50ac6f48a607>\u001b[0m in \u001b[0;36m<module>\u001b[1;34m()\u001b[0m\n\u001b[1;32m----> 1\u001b[1;33m \u001b[0msales\u001b[0m\u001b[1;33m[\u001b[0m\u001b[0mmyfeatures\u001b[0m\u001b[1;33m]\u001b[0m\u001b[1;33m.\u001b[0m\u001b[0mshow\u001b[0m\u001b[1;33m(\u001b[0m\u001b[1;33m)\u001b[0m\u001b[1;33m\u001b[0m\u001b[0m\n\u001b[0m",
      "\u001b[1;31mNameError\u001b[0m: name 'myfeatures' is not defined"
     ]
    }
   ],
   "source": [
    "sales[myfeatures].show()\n"
   ]
  },
  {
   "cell_type": "code",
   "execution_count": null,
   "metadata": {
    "collapsed": true
   },
   "outputs": [],
   "source": []
  },
  {
   "cell_type": "code",
   "execution_count": 70,
   "metadata": {
    "collapsed": false
   },
   "outputs": [
    {
     "data": {
      "application/javascript": [
       "$(\"head\").append($(\"<link/>\").attr({\n",
       "  rel:  \"stylesheet\",\n",
       "  type: \"text/css\",\n",
       "  href: \"//cdnjs.cloudflare.com/ajax/libs/font-awesome/4.1.0/css/font-awesome.min.css\"\n",
       "}));\n",
       "$(\"head\").append($(\"<link/>\").attr({\n",
       "  rel:  \"stylesheet\",\n",
       "  type: \"text/css\",\n",
       "  href: \"//dato.com/files/canvas/1.8/css/canvas.css\"\n",
       "}));\n",
       "\n",
       "            (function(){\n",
       "\n",
       "                var e = null;\n",
       "                if (typeof element == 'undefined') {\n",
       "                    var scripts = document.getElementsByTagName('script');\n",
       "                    var thisScriptTag = scripts[scripts.length-1];\n",
       "                    var parentDiv = thisScriptTag.parentNode;\n",
       "                    e = document.createElement('div');\n",
       "                    parentDiv.appendChild(e);\n",
       "                } else {\n",
       "                    e = element[0];\n",
       "                }\n",
       "\n",
       "                if (typeof requirejs !== 'undefined') {\n",
       "                    // disable load timeout; ipython_app.js is large and can take a while to load.\n",
       "                    requirejs.config({waitSeconds: 0});\n",
       "                }\n",
       "\n",
       "                require(['//dato.com/files/canvas/1.8/js/ipython_app.js'], function(IPythonApp){\n",
       "                    var app = new IPythonApp();\n",
       "                    app.attachView('sframe','Plots', {\"selected_variable\": {\"name\": [\"sales\"], \"descriptives\": {\"rows\": 21613, \"columns\": 21}, \"view_component\": \"Plots\", \"view_file\": \"sframe\", \"view_params\": {\"y\": \"price\", \"x\": \"zipcode\", \"columns\": [\"id\", \"date\", \"price\", \"bedrooms\", \"bathrooms\", \"sqft_living\", \"sqft_lot\", \"floors\", \"waterfront\", \"view\", \"condition\", \"grade\", \"sqft_above\", \"sqft_basement\", \"yr_built\", \"yr_renovated\", \"zipcode\", \"lat\", \"long\", \"sqft_living15\", \"sqft_lot15\"], \"view\": \"BoxWhisker Plot\"}, \"view_components\": [\"Summary\", \"Table\", \"Bar Chart\", \"BoxWhisker Plot\", \"Line Chart\", \"Scatter Plot\", \"Heat Map\", \"Plots\"], \"type\": \"SFrame\", \"columns\": [{\"dtype\": \"str\", \"name\": \"id\"}, {\"dtype\": \"datetime\", \"name\": \"date\"}, {\"dtype\": \"int\", \"name\": \"price\"}, {\"dtype\": \"str\", \"name\": \"bedrooms\"}, {\"dtype\": \"str\", \"name\": \"bathrooms\"}, {\"dtype\": \"int\", \"name\": \"sqft_living\"}, {\"dtype\": \"int\", \"name\": \"sqft_lot\"}, {\"dtype\": \"str\", \"name\": \"floors\"}, {\"dtype\": \"int\", \"name\": \"waterfront\"}, {\"dtype\": \"int\", \"name\": \"view\"}, {\"dtype\": \"int\", \"name\": \"condition\"}, {\"dtype\": \"int\", \"name\": \"grade\"}, {\"dtype\": \"int\", \"name\": \"sqft_above\"}, {\"dtype\": \"int\", \"name\": \"sqft_basement\"}, {\"dtype\": \"int\", \"name\": \"yr_built\"}, {\"dtype\": \"int\", \"name\": \"yr_renovated\"}, {\"dtype\": \"str\", \"name\": \"zipcode\"}, {\"dtype\": \"float\", \"name\": \"lat\"}, {\"dtype\": \"float\", \"name\": \"long\"}, {\"dtype\": \"float\", \"name\": \"sqft_living15\"}, {\"dtype\": \"float\", \"name\": \"sqft_lot15\"}], \"column_identifiers\": [\"bathrooms\", \"sqft_living15\", \"sqft_above\", \"grade\", \"yr_built\", \"price\", \"bedrooms\", \"zipcode\", \"long\", \"id\", \"sqft_lot15\", \"sqft_living\", \"floors\", \"sqft_lot\", \"date\", \"waterfront\", \"sqft_basement\", \"yr_renovated\", \"lat\", \"condition\", \"view\"]}, \"complete\": 1, \"ipython\": true, \"progress\": 1.0, \"data\": {\"grouped\": [[\"98001\", [100000.0, 115000.0, 180000.0, 184000.0, 215000.0, 260000.0, 320000.0, 420000.0, 427000.0, 625000.0, 850000.0]], [\"98002\", [95000.0, 111300.0, 160000.0, 163500.0, 199950.0, 235000.0, 269000.0, 298900.0, 300000.0, 370000.0, 389000.0]], [\"98003\", [128000.0, 152500.0, 199000.0, 200000.0, 229000.0, 267950.0, 333000.0, 420000.0, 429900.0, 740000.0, 950000.0]], [\"98004\", [425000.0, 595000.0, 695000.0, 720000.0, 845000.0, 1150000.0, 1691000.0, 2150000.0, 2200000.0, 3800000.0, 7062500.0]], [\"98005\", [400000.0, 411100.0, 542500.0, 549000.0, 638700.0, 768500.0, 915000.0, 1110000.0, 1125000.0, 1900000.0, 1960000.0]], [\"98006\", [247500.0, 295000.0, 450000.0, 455000.0, 575000.0, 760369.0, 978000.0, 1380000.0, 1400000.0, 2525000.0, 4208000.0]], [\"98007\", [295000.0, 330000.0, 415500.0, 419000.0, 465000.0, 555000.0, 730000.0, 900000.0, 907500.0, 1229000.0, 1315000.0]], [\"98008\", [250000.0, 277700.0, 405000.0, 415000.0, 465000.0, 545000.0, 660000.0, 850000.0, 899000.0, 3300000.0, 3567000.0]], [\"98010\", [135000.0, 162000.0, 208500.0, 212644.0, 257000.0, 360000.0, 600000.0, 712000.0, 720000.0, 935000.0, 935000.0]], [\"98011\", [245500.0, 260000.0, 347000.0, 361000.0, 411800.0, 470000.0, 550000.0, 632000.0, 650000.0, 870000.0, 1075000.0]], [\"98014\", [80000.0, 134000.0, 167000.0, 180000.0, 309000.0, 415000.0, 539000.0, 739000.0, 755000.0, 1610000.0, 1680000.0]], [\"98019\", [119500.0, 170000.0, 289275.0, 299950.0, 330000.0, 402500.0, 500000.0, 570000.0, 570000.0, 979500.0, 1015000.0]], [\"98022\", [75000.0, 152900.0, 199990.0, 200000.0, 235000.0, 280000.0, 350000.0, 475000.0, 487000.0, 750000.0, 858000.0]], [\"98023\", [86500.0, 115000.0, 188000.0, 193000.0, 224097.0, 268450.0, 316500.0, 402500.0, 415000.0, 629000.0, 1275000.0]], [\"98024\", [142000.0, 142000.0, 258000.0, 260000.0, 340000.0, 460000.0, 700000.0, 997950.0, 1065000.0, 1862000.0, 1862000.0]], [\"98027\", [130000.0, 240000.0, 352499.0, 361000.0, 450000.0, 571000.0, 716500.0, 865000.0, 890000.0, 1800000.0, 2700000.0]], [\"98028\", [160000.0, 196000.0, 300000.0, 310000.0, 379950.0, 445000.0, 526750.0, 610000.0, 619990.0, 1120000.0, 1600000.0]], [\"98029\", [285000.0, 310000.0, 413565.0, 420000.0, 485000.0, 575000.0, 690000.0, 795000.0, 812000.0, 1450000.0, 2200000.0]], [\"98030\", [120000.0, 140000.0, 213400.0, 220000.0, 249950.0, 282510.0, 339950.0, 380000.0, 386000.0, 491000.0, 565000.0]], [\"98031\", [147500.0, 152000.0, 223000.0, 230000.0, 252000.0, 288400.0, 327500.0, 377000.0, 382500.0, 680000.0, 800000.0]], [\"98032\", [85000.0, 85000.0, 165000.0, 169000.0, 221700.0, 249000.0, 285000.0, 321000.0, 324900.0, 400000.0, 545000.0]], [\"98033\", [130000.0, 305000.0, 425000.0, 437500.0, 535000.0, 678700.0, 902000.0, 1339000.0, 1378000.0, 2650000.0, 5110800.0]], [\"98034\", [90000.0, 257000.0, 330000.0, 335000.0, 387000.0, 445950.0, 525000.0, 749950.0, 799950.0, 2125000.0, 3120000.0]], [\"98038\", [110000.0, 176000.0, 240000.0, 245000.0, 285000.0, 342000.0, 410000.0, 533000.0, 540000.0, 849000.0, 1350000.0]], [\"98039\", [787500.0, 787500.0, 940000.0, 1000000.0, 1398000.0, 1905000.0, 2575000.0, 3640900.0, 3640900.0, 6885000.0, 6885000.0]], [\"98040\", [500000.0, 550000.0, 685000.0, 698000.0, 821000.0, 994000.0, 1387000.0, 1815000.0, 1900000.0, 3850000.0, 5300000.0]], [\"98042\", [105000.0, 132825.0, 200000.0, 204000.0, 240000.0, 292500.0, 359950.0, 444900.0, 450000.0, 734000.0, 859000.0]], [\"98045\", [175000.0, 189000.0, 259000.0, 271000.0, 305000.0, 399500.0, 495000.0, 665000.0, 688000.0, 1075000.0, 1950000.0]], [\"98052\", [225000.0, 315000.0, 425000.0, 432100.0, 509250.0, 615000.0, 751000.0, 852500.0, 872750.0, 1299888.0, 2200000.0]], [\"98053\", [170000.0, 300000.0, 400000.0, 405000.0, 485000.0, 635000.0, 790500.0, 955990.0, 975000.0, 1769000.0, 2280000.0]], [\"98055\", [100000.0, 126000.0, 192000.0, 197500.0, 240000.0, 295000.0, 350000.0, 430000.0, 440000.0, 580000.0, 631000.0]], [\"98056\", [139000.0, 155000.0, 230000.0, 231500.0, 289000.0, 380000.0, 510000.0, 635000.0, 640000.0, 980000.0, 3000000.0]], [\"98058\", [95000.0, 144000.0, 225000.0, 230000.0, 285000.0, 335000.0, 392000.0, 475000.0, 485000.0, 790000.0, 1500000.0]], [\"98059\", [172500.0, 217000.0, 291375.0, 294500.0, 340000.0, 435000.0, 552500.0, 751000.0, 785000.0, 1300000.0, 1780000.0]], [\"98065\", [170000.0, 208000.0, 323000.0, 335000.0, 424950.0, 500000.0, 619000.0, 710000.0, 723000.0, 1145000.0, 1998000.0]], [\"98070\", [160000.0, 181000.0, 280000.0, 285000.0, 340000.0, 465000.0, 575000.0, 729000.0, 730000.0, 1350000.0, 1379900.0]], [\"98072\", [200000.0, 275000.0, 357823.0, 365000.0, 422800.0, 515000.0, 642860.0, 879000.0, 905000.0, 1350000.0, 1565000.0]], [\"98074\", [280000.0, 325000.0, 420000.0, 434900.0, 532000.0, 642000.0, 798000.0, 922755.0, 929000.0, 1675000.0, 3075000.0]], [\"98075\", [406430.0, 432000.0, 545000.0, 550000.0, 641000.0, 739999.0, 870000.0, 1060000.0, 1062500.0, 2000000.0, 3200000.0]], [\"98077\", [250000.0, 274975.0, 335000.0, 353000.0, 510000.0, 654950.0, 835000.0, 950000.0, 985000.0, 1820000.0, 1920000.0]], [\"98092\", [90000.0, 148226.0, 210000.0, 216000.0, 263950.0, 309780.0, 379500.0, 471275.0, 480000.0, 835000.0, 930000.0]], [\"98102\", [330000.0, 350000.0, 440000.0, 475000.0, 575000.0, 720000.0, 979700.0, 1440000.0, 1443917.0, 2479000.0, 7700000.0]], [\"98103\", [238000.0, 259250.0, 352950.0, 355000.0, 432000.0, 550000.0, 695000.0, 830000.0, 850000.0, 1350000.0, 1695000.0]], [\"98105\", [380000.0, 395000.0, 483000.0, 485000.0, 550000.0, 675000.0, 1005000.0, 1415000.0, 1482500.0, 2555000.0, 3650000.0]], [\"98106\", [90000.0, 107000.0, 208400.0, 210000.0, 260000.0, 315000.0, 366000.0, 426000.0, 435000.0, 625000.0, 795000.0]], [\"98107\", [290000.0, 356000.0, 425000.0, 430000.0, 470000.0, 529950.0, 630000.0, 752500.0, 769950.0, 1205000.0, 2945000.0]], [\"98108\", [90000.0, 130000.0, 230000.0, 230000.0, 284000.0, 345000.0, 425000.0, 491000.0, 500000.0, 635000.0, 640000.0]], [\"98109\", [216650.0, 216650.0, 478000.0, 479000.0, 620000.0, 736000.0, 1000000.0, 1450000.0, 1450000.0, 2900000.0, 3200000.0]], [\"98112\", [169317.0, 350000.0, 515000.0, 524000.0, 680000.0, 915000.0, 1328000.0, 1975000.0, 2048000.0, 3000000.0, 3400000.0]], [\"98115\", [200000.0, 289500.0, 395000.0, 399000.0, 455000.0, 567000.0, 719000.0, 897000.0, 925000.0, 1500000.0, 2300000.0]], [\"98116\", [130000.0, 252000.0, 386950.0, 390000.0, 460000.0, 565500.0, 703000.0, 930000.0, 950000.0, 1598888.0, 2050000.0]], [\"98117\", [125000.0, 280000.0, 375000.0, 390000.0, 450000.0, 544000.0, 657500.0, 825000.0, 850000.0, 1275000.0, 1370000.0]], [\"98118\", [109000.0, 155000.0, 221000.0, 226000.0, 289000.0, 367500.0, 476500.0, 665000.0, 680000.0, 1309500.0, 2903000.0]], [\"98119\", [300523.0, 365000.0, 485000.0, 490000.0, 600000.0, 749950.0, 940000.0, 1320000.0, 1330000.0, 2630000.0, 3065000.0]], [\"98122\", [202000.0, 260000.0, 375000.0, 385000.0, 450000.0, 574000.0, 720000.0, 920000.0, 925000.0, 1850000.0, 2050000.0]], [\"98125\", [175000.0, 228000.0, 303697.0, 310000.0, 357250.0, 425000.0, 518000.0, 675000.0, 689000.0, 1335000.0, 2050000.0]], [\"98126\", [110000.0, 183000.0, 250000.0, 255000.0, 320000.0, 396500.0, 485000.0, 643500.0, 661000.0, 901000.0, 1085000.0]], [\"98133\", [130000.0, 210000.0, 275000.0, 277500.0, 318000.0, 375000.0, 435000.0, 507000.0, 518000.0, 729953.0, 808100.0]], [\"98136\", [200000.0, 229050.0, 340000.0, 345000.0, 398000.0, 489950.0, 660000.0, 838000.0, 850000.0, 1662000.0, 2230000.0]], [\"98144\", [181000.0, 230000.0, 325000.0, 327000.0, 374950.0, 450000.0, 666000.0, 970000.0, 1039000.0, 2450000.0, 3600000.0]], [\"98146\", [82000.0, 104950.0, 158800.0, 175000.0, 229500.0, 307000.0, 409000.0, 605000.0, 665900.0, 1250000.0, 1410000.0]], [\"98148\", [105500.0, 105500.0, 193000.0, 193000.0, 240000.0, 278000.0, 319990.0, 375000.0, 375000.0, 600600.0, 600600.0]], [\"98155\", [153000.0, 195000.0, 267800.0, 270000.0, 315000.0, 375000.0, 460000.0, 590000.0, 600000.0, 1680000.0, 4500000.0]], [\"98166\", [100000.0, 129888.0, 220000.0, 229000.0, 292000.0, 390000.0, 540500.0, 755000.0, 770000.0, 1899000.0, 2510000.0]], [\"98168\", [78000.0, 82500.0, 150550.0, 158000.0, 199950.0, 235000.0, 285000.0, 325000.0, 327200.0, 424305.0, 600000.0]], [\"98177\", [245560.0, 276000.0, 355950.0, 367500.0, 427000.0, 554000.0, 749950.0, 1075000.0, 1200000.0, 2880500.0, 3800000.0]], [\"98178\", [90000.0, 119900.0, 180000.0, 188000.0, 223000.0, 279000.0, 350000.0, 450000.0, 460000.0, 869000.0, 1700000.0]], [\"98188\", [110000.0, 110700.0, 179000.0, 179950.0, 230000.0, 265000.0, 335000.0, 400200.0, 408000.0, 706000.0, 707000.0]], [\"98198\", [95000.0, 120000.0, 174500.0, 175000.0, 216500.0, 265000.0, 340000.0, 455000.0, 475000.0, 950000.0, 1350000.0]], [\"98199\", [323000.0, 334000.0, 419000.0, 425000.0, 535000.0, 689800.0, 950000.0, 1289000.0, 1300000.0, 2160000.0, 3200000.0]]], \"omitted\": 0}, \"columns\": [{\"dtype\": \"str\", \"name\": \"id\"}, {\"dtype\": \"datetime\", \"name\": \"date\"}, {\"dtype\": \"int\", \"name\": \"price\"}, {\"dtype\": \"str\", \"name\": \"bedrooms\"}, {\"dtype\": \"str\", \"name\": \"bathrooms\"}, {\"dtype\": \"int\", \"name\": \"sqft_living\"}, {\"dtype\": \"int\", \"name\": \"sqft_lot\"}, {\"dtype\": \"str\", \"name\": \"floors\"}, {\"dtype\": \"int\", \"name\": \"waterfront\"}, {\"dtype\": \"int\", \"name\": \"view\"}, {\"dtype\": \"int\", \"name\": \"condition\"}, {\"dtype\": \"int\", \"name\": \"grade\"}, {\"dtype\": \"int\", \"name\": \"sqft_above\"}, {\"dtype\": \"int\", \"name\": \"sqft_basement\"}, {\"dtype\": \"int\", \"name\": \"yr_built\"}, {\"dtype\": \"int\", \"name\": \"yr_renovated\"}, {\"dtype\": \"str\", \"name\": \"zipcode\"}, {\"dtype\": \"float\", \"name\": \"lat\"}, {\"dtype\": \"float\", \"name\": \"long\"}, {\"dtype\": \"float\", \"name\": \"sqft_living15\"}, {\"dtype\": \"float\", \"name\": \"sqft_lot15\"}]}, e);\n",
       "                });\n",
       "            })();\n",
       "        "
      ]
     },
     "metadata": {},
     "output_type": "display_data"
    }
   ],
   "source": [
    "sales.show(view = 'BoxWhisker Plot', x = 'zipcode' , y = 'price')"
   ]
  },
  {
   "cell_type": "code",
   "execution_count": 10,
   "metadata": {
    "collapsed": false
   },
   "outputs": [
    {
     "ename": "AttributeError",
     "evalue": "'dict' object has no attribute 'show'",
     "output_type": "error",
     "traceback": [
      "\u001b[1;31m---------------------------------------------------------------------------\u001b[0m",
      "\u001b[1;31mAttributeError\u001b[0m                            Traceback (most recent call last)",
      "\u001b[1;32m<ipython-input-10-71af0ce5668b>\u001b[0m in \u001b[0;36m<module>\u001b[1;34m()\u001b[0m\n\u001b[0;32m      1\u001b[0m \u001b[0mmaxZip\u001b[0m \u001b[1;33m=\u001b[0m \u001b[0msales\u001b[0m\u001b[1;33m[\u001b[0m\u001b[1;33m(\u001b[0m\u001b[1;34m'zipcode'\u001b[0m\u001b[1;33m)\u001b[0m \u001b[1;33m==\u001b[0m \u001b[1;36m98039\u001b[0m \u001b[1;33m]\u001b[0m\u001b[1;33m\u001b[0m\u001b[0m\n\u001b[1;32m----> 2\u001b[1;33m \u001b[0mmaxZip\u001b[0m\u001b[1;33m.\u001b[0m\u001b[0mshow\u001b[0m\u001b[1;33m(\u001b[0m\u001b[1;33m)\u001b[0m\u001b[1;33m\u001b[0m\u001b[0m\n\u001b[0m",
      "\u001b[1;31mAttributeError\u001b[0m: 'dict' object has no attribute 'show'"
     ]
    }
   ],
   "source": [
    "maxZip = sales[('zipcode') == 98039 ]\n",
    "maxZip.show()\n"
   ]
  },
  {
   "cell_type": "code",
   "execution_count": 71,
   "metadata": {
    "collapsed": false
   },
   "outputs": [
    {
     "name": "stdout",
     "output_type": "stream",
     "text": [
      "PROGRESS: Creating a validation set from 5 percent of training data. This may take a while.\n",
      "          You can set ``validation_set=None`` to disable validation tracking.\n",
      "\n",
      "PROGRESS: Linear regression:\n",
      "PROGRESS: --------------------------------------------------------\n",
      "PROGRESS: Number of examples          : 16435\n",
      "PROGRESS: Number of features          : 6\n",
      "PROGRESS: Number of unpacked features : 6\n",
      "PROGRESS: Number of coefficients    : 115\n",
      "PROGRESS: Starting Newton Method\n",
      "PROGRESS: --------------------------------------------------------\n",
      "PROGRESS: +-----------+----------+--------------+--------------------+----------------------+---------------+-----------------+\n",
      "PROGRESS: | Iteration | Passes   | Elapsed Time | Training-max_error | Validation-max_error | Training-rmse | Validation-rmse |\n",
      "PROGRESS: +-----------+----------+--------------+--------------------+----------------------+---------------+-----------------+\n",
      "PROGRESS: | 1         | 2        | 0.030342     | 3747718.445297     | 2825727.720249       | 181287.498590 | 196781.061983   |\n",
      "PROGRESS: +-----------+----------+--------------+--------------------+----------------------+---------------+-----------------+\n",
      "PROGRESS: SUCCESS: Optimal solution found.\n",
      "PROGRESS:\n"
     ]
    }
   ],
   "source": [
    "myfeatures_model = graphlab.linear_regression.create(Train, target = 'price', features = myfeatures)"
   ]
  },
  {
   "cell_type": "code",
   "execution_count": 73,
   "metadata": {
    "collapsed": false
   },
   "outputs": [
    {
     "name": "stdout",
     "output_type": "stream",
     "text": [
      "{'max_error': 4119535.4579562773, 'rmse': 255264.5274262777}\n",
      "{'max_error': 3456354.6362515455, 'rmse': 179490.71412673037}\n"
     ]
    }
   ],
   "source": [
    "print sqft_model.evaluate(Test)\n",
    "print myfeatures_model.evaluate(Test)"
   ]
  },
  {
   "cell_type": "code",
   "execution_count": 83,
   "metadata": {
    "collapsed": false
   },
   "outputs": [],
   "source": [
    "house1 = sales[sales['id'] == '5309101200' ]\n"
   ]
  },
  {
   "cell_type": "raw",
   "metadata": {},
   "source": [
    "\n"
   ]
  },
  {
   "cell_type": "code",
   "execution_count": 84,
   "metadata": {
    "collapsed": false
   },
   "outputs": [
    {
     "data": {
      "text/html": [
       "<div style=\"max-height:1000px;max-width:1500px;overflow:auto;\"><table frame=\"box\" rules=\"cols\">\n",
       "    <tr>\n",
       "        <th style=\"padding-left: 1em; padding-right: 1em; text-align: center\">id</th>\n",
       "        <th style=\"padding-left: 1em; padding-right: 1em; text-align: center\">date</th>\n",
       "        <th style=\"padding-left: 1em; padding-right: 1em; text-align: center\">price</th>\n",
       "        <th style=\"padding-left: 1em; padding-right: 1em; text-align: center\">bedrooms</th>\n",
       "        <th style=\"padding-left: 1em; padding-right: 1em; text-align: center\">bathrooms</th>\n",
       "        <th style=\"padding-left: 1em; padding-right: 1em; text-align: center\">sqft_living</th>\n",
       "        <th style=\"padding-left: 1em; padding-right: 1em; text-align: center\">sqft_lot</th>\n",
       "        <th style=\"padding-left: 1em; padding-right: 1em; text-align: center\">floors</th>\n",
       "        <th style=\"padding-left: 1em; padding-right: 1em; text-align: center\">waterfront</th>\n",
       "    </tr>\n",
       "    <tr>\n",
       "        <td style=\"padding-left: 1em; padding-right: 1em; text-align: center; vertical-align: top\">5309101200</td>\n",
       "        <td style=\"padding-left: 1em; padding-right: 1em; text-align: center; vertical-align: top\">2014-06-05 00:00:00+00:00</td>\n",
       "        <td style=\"padding-left: 1em; padding-right: 1em; text-align: center; vertical-align: top\">620000</td>\n",
       "        <td style=\"padding-left: 1em; padding-right: 1em; text-align: center; vertical-align: top\">4</td>\n",
       "        <td style=\"padding-left: 1em; padding-right: 1em; text-align: center; vertical-align: top\">2.25</td>\n",
       "        <td style=\"padding-left: 1em; padding-right: 1em; text-align: center; vertical-align: top\">2400</td>\n",
       "        <td style=\"padding-left: 1em; padding-right: 1em; text-align: center; vertical-align: top\">5350</td>\n",
       "        <td style=\"padding-left: 1em; padding-right: 1em; text-align: center; vertical-align: top\">1.5</td>\n",
       "        <td style=\"padding-left: 1em; padding-right: 1em; text-align: center; vertical-align: top\">0</td>\n",
       "    </tr>\n",
       "</table>\n",
       "<table frame=\"box\" rules=\"cols\">\n",
       "    <tr>\n",
       "        <th style=\"padding-left: 1em; padding-right: 1em; text-align: center\">view</th>\n",
       "        <th style=\"padding-left: 1em; padding-right: 1em; text-align: center\">condition</th>\n",
       "        <th style=\"padding-left: 1em; padding-right: 1em; text-align: center\">grade</th>\n",
       "        <th style=\"padding-left: 1em; padding-right: 1em; text-align: center\">sqft_above</th>\n",
       "        <th style=\"padding-left: 1em; padding-right: 1em; text-align: center\">sqft_basement</th>\n",
       "        <th style=\"padding-left: 1em; padding-right: 1em; text-align: center\">yr_built</th>\n",
       "        <th style=\"padding-left: 1em; padding-right: 1em; text-align: center\">yr_renovated</th>\n",
       "        <th style=\"padding-left: 1em; padding-right: 1em; text-align: center\">zipcode</th>\n",
       "        <th style=\"padding-left: 1em; padding-right: 1em; text-align: center\">lat</th>\n",
       "    </tr>\n",
       "    <tr>\n",
       "        <td style=\"padding-left: 1em; padding-right: 1em; text-align: center; vertical-align: top\">0</td>\n",
       "        <td style=\"padding-left: 1em; padding-right: 1em; text-align: center; vertical-align: top\">4</td>\n",
       "        <td style=\"padding-left: 1em; padding-right: 1em; text-align: center; vertical-align: top\">7</td>\n",
       "        <td style=\"padding-left: 1em; padding-right: 1em; text-align: center; vertical-align: top\">1460</td>\n",
       "        <td style=\"padding-left: 1em; padding-right: 1em; text-align: center; vertical-align: top\">940</td>\n",
       "        <td style=\"padding-left: 1em; padding-right: 1em; text-align: center; vertical-align: top\">1929</td>\n",
       "        <td style=\"padding-left: 1em; padding-right: 1em; text-align: center; vertical-align: top\">0</td>\n",
       "        <td style=\"padding-left: 1em; padding-right: 1em; text-align: center; vertical-align: top\">98117</td>\n",
       "        <td style=\"padding-left: 1em; padding-right: 1em; text-align: center; vertical-align: top\">47.67632376</td>\n",
       "    </tr>\n",
       "</table>\n",
       "<table frame=\"box\" rules=\"cols\">\n",
       "    <tr>\n",
       "        <th style=\"padding-left: 1em; padding-right: 1em; text-align: center\">long</th>\n",
       "        <th style=\"padding-left: 1em; padding-right: 1em; text-align: center\">sqft_living15</th>\n",
       "        <th style=\"padding-left: 1em; padding-right: 1em; text-align: center\">sqft_lot15</th>\n",
       "    </tr>\n",
       "    <tr>\n",
       "        <td style=\"padding-left: 1em; padding-right: 1em; text-align: center; vertical-align: top\">-122.37010126</td>\n",
       "        <td style=\"padding-left: 1em; padding-right: 1em; text-align: center; vertical-align: top\">1250.0</td>\n",
       "        <td style=\"padding-left: 1em; padding-right: 1em; text-align: center; vertical-align: top\">4880.0</td>\n",
       "    </tr>\n",
       "</table>\n",
       "[? rows x 21 columns]<br/>Note: Only the head of the SFrame is printed. This SFrame is lazily evaluated.<br/>You can use len(sf) to force materialization.\n",
       "</div>"
      ],
      "text/plain": [
       "Columns:\n",
       "\tid\tstr\n",
       "\tdate\tdatetime\n",
       "\tprice\tint\n",
       "\tbedrooms\tstr\n",
       "\tbathrooms\tstr\n",
       "\tsqft_living\tint\n",
       "\tsqft_lot\tint\n",
       "\tfloors\tstr\n",
       "\twaterfront\tint\n",
       "\tview\tint\n",
       "\tcondition\tint\n",
       "\tgrade\tint\n",
       "\tsqft_above\tint\n",
       "\tsqft_basement\tint\n",
       "\tyr_built\tint\n",
       "\tyr_renovated\tint\n",
       "\tzipcode\tstr\n",
       "\tlat\tfloat\n",
       "\tlong\tfloat\n",
       "\tsqft_living15\tfloat\n",
       "\tsqft_lot15\tfloat\n",
       "\n",
       "Rows: Unknown\n",
       "\n",
       "Data:\n",
       "+------------+---------------------------+--------+----------+-----------+-------------+\n",
       "|     id     |            date           | price  | bedrooms | bathrooms | sqft_living |\n",
       "+------------+---------------------------+--------+----------+-----------+-------------+\n",
       "| 5309101200 | 2014-06-05 00:00:00+00:00 | 620000 |    4     |    2.25   |     2400    |\n",
       "+------------+---------------------------+--------+----------+-----------+-------------+\n",
       "+----------+--------+------------+------+-----------+-------+------------+---------------+\n",
       "| sqft_lot | floors | waterfront | view | condition | grade | sqft_above | sqft_basement |\n",
       "+----------+--------+------------+------+-----------+-------+------------+---------------+\n",
       "|   5350   |  1.5   |     0      |  0   |     4     |   7   |    1460    |      940      |\n",
       "+----------+--------+------------+------+-----------+-------+------------+---------------+\n",
       "+----------+--------------+---------+-------------+---------------+---------------+-----+\n",
       "| yr_built | yr_renovated | zipcode |     lat     |      long     | sqft_living15 | ... |\n",
       "+----------+--------------+---------+-------------+---------------+---------------+-----+\n",
       "|   1929   |      0       |  98117  | 47.67632376 | -122.37010126 |     1250.0    | ... |\n",
       "+----------+--------------+---------+-------------+---------------+---------------+-----+\n",
       "[? rows x 21 columns]\n",
       "Note: Only the head of the SFrame is printed. This SFrame is lazily evaluated.\n",
       "You can use len(sf) to force materialization."
      ]
     },
     "execution_count": 84,
     "metadata": {},
     "output_type": "execute_result"
    }
   ],
   "source": [
    "house1\n",
    "\n"
   ]
  },
  {
   "cell_type": "markdown",
   "metadata": {},
   "source": [
    "<img src = \"jrv.jpg\">\n"
   ]
  },
  {
   "cell_type": "raw",
   "metadata": {},
   "source": []
  },
  {
   "cell_type": "code",
   "execution_count": 90,
   "metadata": {
    "collapsed": false
   },
   "outputs": [
    {
     "name": "stdout",
     "output_type": "stream",
     "text": [
      "[620000]\n",
      "[631151.8468406475]\n",
      "[722666.340149696]\n"
     ]
    }
   ],
   "source": [
    "print house1['price']\n",
    "print sqft_model.predict(house1)\n",
    "print myfeatures_model.predict(house1)"
   ]
  },
  {
   "cell_type": "code",
   "execution_count": 91,
   "metadata": {
    "collapsed": true
   },
   "outputs": [],
   "source": [
    "house2 = sales[sales['id'] == '1925069082' ]\n"
   ]
  },
  {
   "cell_type": "code",
   "execution_count": 92,
   "metadata": {
    "collapsed": false
   },
   "outputs": [
    {
     "data": {
      "text/html": [
       "<div style=\"max-height:1000px;max-width:1500px;overflow:auto;\"><table frame=\"box\" rules=\"cols\">\n",
       "    <tr>\n",
       "        <th style=\"padding-left: 1em; padding-right: 1em; text-align: center\">id</th>\n",
       "        <th style=\"padding-left: 1em; padding-right: 1em; text-align: center\">date</th>\n",
       "        <th style=\"padding-left: 1em; padding-right: 1em; text-align: center\">price</th>\n",
       "        <th style=\"padding-left: 1em; padding-right: 1em; text-align: center\">bedrooms</th>\n",
       "        <th style=\"padding-left: 1em; padding-right: 1em; text-align: center\">bathrooms</th>\n",
       "        <th style=\"padding-left: 1em; padding-right: 1em; text-align: center\">sqft_living</th>\n",
       "        <th style=\"padding-left: 1em; padding-right: 1em; text-align: center\">sqft_lot</th>\n",
       "        <th style=\"padding-left: 1em; padding-right: 1em; text-align: center\">floors</th>\n",
       "        <th style=\"padding-left: 1em; padding-right: 1em; text-align: center\">waterfront</th>\n",
       "    </tr>\n",
       "    <tr>\n",
       "        <td style=\"padding-left: 1em; padding-right: 1em; text-align: center; vertical-align: top\">1925069082</td>\n",
       "        <td style=\"padding-left: 1em; padding-right: 1em; text-align: center; vertical-align: top\">2015-05-11 00:00:00+00:00</td>\n",
       "        <td style=\"padding-left: 1em; padding-right: 1em; text-align: center; vertical-align: top\">2200000</td>\n",
       "        <td style=\"padding-left: 1em; padding-right: 1em; text-align: center; vertical-align: top\">5</td>\n",
       "        <td style=\"padding-left: 1em; padding-right: 1em; text-align: center; vertical-align: top\">4.25</td>\n",
       "        <td style=\"padding-left: 1em; padding-right: 1em; text-align: center; vertical-align: top\">4640</td>\n",
       "        <td style=\"padding-left: 1em; padding-right: 1em; text-align: center; vertical-align: top\">22703</td>\n",
       "        <td style=\"padding-left: 1em; padding-right: 1em; text-align: center; vertical-align: top\">2</td>\n",
       "        <td style=\"padding-left: 1em; padding-right: 1em; text-align: center; vertical-align: top\">1</td>\n",
       "    </tr>\n",
       "</table>\n",
       "<table frame=\"box\" rules=\"cols\">\n",
       "    <tr>\n",
       "        <th style=\"padding-left: 1em; padding-right: 1em; text-align: center\">view</th>\n",
       "        <th style=\"padding-left: 1em; padding-right: 1em; text-align: center\">condition</th>\n",
       "        <th style=\"padding-left: 1em; padding-right: 1em; text-align: center\">grade</th>\n",
       "        <th style=\"padding-left: 1em; padding-right: 1em; text-align: center\">sqft_above</th>\n",
       "        <th style=\"padding-left: 1em; padding-right: 1em; text-align: center\">sqft_basement</th>\n",
       "        <th style=\"padding-left: 1em; padding-right: 1em; text-align: center\">yr_built</th>\n",
       "        <th style=\"padding-left: 1em; padding-right: 1em; text-align: center\">yr_renovated</th>\n",
       "        <th style=\"padding-left: 1em; padding-right: 1em; text-align: center\">zipcode</th>\n",
       "        <th style=\"padding-left: 1em; padding-right: 1em; text-align: center\">lat</th>\n",
       "    </tr>\n",
       "    <tr>\n",
       "        <td style=\"padding-left: 1em; padding-right: 1em; text-align: center; vertical-align: top\">4</td>\n",
       "        <td style=\"padding-left: 1em; padding-right: 1em; text-align: center; vertical-align: top\">5</td>\n",
       "        <td style=\"padding-left: 1em; padding-right: 1em; text-align: center; vertical-align: top\">8</td>\n",
       "        <td style=\"padding-left: 1em; padding-right: 1em; text-align: center; vertical-align: top\">2860</td>\n",
       "        <td style=\"padding-left: 1em; padding-right: 1em; text-align: center; vertical-align: top\">1780</td>\n",
       "        <td style=\"padding-left: 1em; padding-right: 1em; text-align: center; vertical-align: top\">1952</td>\n",
       "        <td style=\"padding-left: 1em; padding-right: 1em; text-align: center; vertical-align: top\">0</td>\n",
       "        <td style=\"padding-left: 1em; padding-right: 1em; text-align: center; vertical-align: top\">98052</td>\n",
       "        <td style=\"padding-left: 1em; padding-right: 1em; text-align: center; vertical-align: top\">47.63925783</td>\n",
       "    </tr>\n",
       "</table>\n",
       "<table frame=\"box\" rules=\"cols\">\n",
       "    <tr>\n",
       "        <th style=\"padding-left: 1em; padding-right: 1em; text-align: center\">long</th>\n",
       "        <th style=\"padding-left: 1em; padding-right: 1em; text-align: center\">sqft_living15</th>\n",
       "        <th style=\"padding-left: 1em; padding-right: 1em; text-align: center\">sqft_lot15</th>\n",
       "    </tr>\n",
       "    <tr>\n",
       "        <td style=\"padding-left: 1em; padding-right: 1em; text-align: center; vertical-align: top\">-122.09722322</td>\n",
       "        <td style=\"padding-left: 1em; padding-right: 1em; text-align: center; vertical-align: top\">3140.0</td>\n",
       "        <td style=\"padding-left: 1em; padding-right: 1em; text-align: center; vertical-align: top\">14200.0</td>\n",
       "    </tr>\n",
       "</table>\n",
       "[? rows x 21 columns]<br/>Note: Only the head of the SFrame is printed. This SFrame is lazily evaluated.<br/>You can use len(sf) to force materialization.\n",
       "</div>"
      ],
      "text/plain": [
       "Columns:\n",
       "\tid\tstr\n",
       "\tdate\tdatetime\n",
       "\tprice\tint\n",
       "\tbedrooms\tstr\n",
       "\tbathrooms\tstr\n",
       "\tsqft_living\tint\n",
       "\tsqft_lot\tint\n",
       "\tfloors\tstr\n",
       "\twaterfront\tint\n",
       "\tview\tint\n",
       "\tcondition\tint\n",
       "\tgrade\tint\n",
       "\tsqft_above\tint\n",
       "\tsqft_basement\tint\n",
       "\tyr_built\tint\n",
       "\tyr_renovated\tint\n",
       "\tzipcode\tstr\n",
       "\tlat\tfloat\n",
       "\tlong\tfloat\n",
       "\tsqft_living15\tfloat\n",
       "\tsqft_lot15\tfloat\n",
       "\n",
       "Rows: Unknown\n",
       "\n",
       "Data:\n",
       "+------------+---------------------------+---------+----------+-----------+-------------+\n",
       "|     id     |            date           |  price  | bedrooms | bathrooms | sqft_living |\n",
       "+------------+---------------------------+---------+----------+-----------+-------------+\n",
       "| 1925069082 | 2015-05-11 00:00:00+00:00 | 2200000 |    5     |    4.25   |     4640    |\n",
       "+------------+---------------------------+---------+----------+-----------+-------------+\n",
       "+----------+--------+------------+------+-----------+-------+------------+---------------+\n",
       "| sqft_lot | floors | waterfront | view | condition | grade | sqft_above | sqft_basement |\n",
       "+----------+--------+------------+------+-----------+-------+------------+---------------+\n",
       "|  22703   |   2    |     1      |  4   |     5     |   8   |    2860    |      1780     |\n",
       "+----------+--------+------------+------+-----------+-------+------------+---------------+\n",
       "+----------+--------------+---------+-------------+---------------+---------------+-----+\n",
       "| yr_built | yr_renovated | zipcode |     lat     |      long     | sqft_living15 | ... |\n",
       "+----------+--------------+---------+-------------+---------------+---------------+-----+\n",
       "|   1952   |      0       |  98052  | 47.63925783 | -122.09722322 |     3140.0    | ... |\n",
       "+----------+--------------+---------+-------------+---------------+---------------+-----+\n",
       "[? rows x 21 columns]\n",
       "Note: Only the head of the SFrame is printed. This SFrame is lazily evaluated.\n",
       "You can use len(sf) to force materialization."
      ]
     },
     "execution_count": 92,
     "metadata": {},
     "output_type": "execute_result"
    }
   ],
   "source": [
    "house2\n"
   ]
  },
  {
   "cell_type": "code",
   "execution_count": 93,
   "metadata": {
    "collapsed": false
   },
   "outputs": [
    {
     "name": "stdout",
     "output_type": "stream",
     "text": [
      "[2200000, ... ]\n",
      "[1269450.9706396982]\n",
      "[1408669.270004268]\n"
     ]
    }
   ],
   "source": [
    "print house2['price']\n",
    "print sqft_model.predict(house2)\n",
    "print myfeatures_model.predict(house2)"
   ]
  },
  {
   "cell_type": "code",
   "execution_count": 94,
   "metadata": {
    "collapsed": true
   },
   "outputs": [],
   "source": [
    "bill_gates = {'bedrooms':[8], \n",
    "              'bathrooms':[25], \n",
    "              'sqft_living':[50000], \n",
    "              'sqft_lot':[225000],\n",
    "              'floors':[4], \n",
    "              'zipcode':['98039'], \n",
    "              'condition':[10], \n",
    "              'grade':[10],\n",
    "              'waterfront':[1],\n",
    "              'view':[4],\n",
    "              'sqft_above':[37500],\n",
    "              'sqft_basement':[12500],\n",
    "              'yr_built':[1994],\n",
    "              'yr_renovated':[2010],\n",
    "              'lat':[47.627606],\n",
    "              'long':[-122.242054],\n",
    "              'sqft_living15':[5000],\n",
    "              'sqft_lot15':[40000]}"
   ]
  },
  {
   "cell_type": "code",
   "execution_count": 95,
   "metadata": {
    "collapsed": false
   },
   "outputs": [
    {
     "name": "stdout",
     "output_type": "stream",
     "text": [
      "[13749245.34955468]\n"
     ]
    }
   ],
   "source": [
    "print myfeatures_model.predict(graphlab.SFrame(bill_gates))"
   ]
  },
  {
   "cell_type": "code",
   "execution_count": null,
   "metadata": {
    "collapsed": true
   },
   "outputs": [],
   "source": []
  }
 ],
 "metadata": {
  "kernelspec": {
   "display_name": "Python 2",
   "language": "python",
   "name": "python2"
  },
  "language_info": {
   "codemirror_mode": {
    "name": "ipython",
    "version": 2
   },
   "file_extension": ".py",
   "mimetype": "text/x-python",
   "name": "python",
   "nbconvert_exporter": "python",
   "pygments_lexer": "ipython2",
   "version": "2.7.11"
  }
 },
 "nbformat": 4,
 "nbformat_minor": 0
}
