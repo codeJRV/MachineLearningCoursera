{
 "cells": [
  {
   "cell_type": "code",
   "execution_count": 35,
   "metadata": {
    "collapsed": false
   },
   "outputs": [
    {
     "name": "stdout",
     "output_type": "stream",
     "text": [
      "Mismatch Element 0\n",
      "Mismatch Element 3\n",
      "[0, 0, 0, 0]\n",
      "\n",
      "[0, 0, 0, 1]\n",
      "[1, 1, 1, 0]\n"
     ]
    }
   ],
   "source": [
    "x1 = [0,0,1,1]\n",
    "x2 = [0,1,0,1]\n",
    "\n",
    "Actual = [0,0,0,0]\n",
    "\n",
    "Expected  = [1,0,0,1]\n",
    "Z1 = [0,0,0,1]\n",
    "Z2 = [1,0,0,0]\n",
    "\n",
    "a0 = -1.5\n",
    "a1 = 1\n",
    "a2 = 1\n",
    "\n",
    "b0 = 1.5\n",
    "b1 = -1\n",
    "b2 = -1\n",
    "\n",
    "c0 = -1.5\n",
    "c1 = 1\n",
    "c2 = 1\n",
    "\n",
    "for x in range (0 ,4):\n",
    "    \n",
    "    z1 = a0 + a1*x1[x] + a2*x2[x]\n",
    "    z2 = b0 + b1*x1[x] + b2*x2[x]\n",
    "    \n",
    "    if z1 > 0 :\n",
    "        z1 = 1\n",
    "    else :\n",
    "        z1 = 0\n",
    "        \n",
    "    if z2 > 0 :\n",
    "        z2 = 1\n",
    "    else :\n",
    "        z2 = 0\n",
    "    \n",
    "    Actual[x] = c0 + c1*z1 + c2*z2\n",
    "    \n",
    "    if Actual[x] > 0 :\n",
    "          Actual[x] = 1\n",
    "    else :\n",
    "          Actual[x] = 0\n",
    "    \n",
    "    Z1[x] = z1\n",
    "    Z2[x] = z2\n",
    "    \n",
    "    \n",
    "    if Actual[x] != Expected[x]:\n",
    "        print 'Mismatch Element %x' %x\n",
    "\n",
    "print Actual\n",
    "print\n",
    "print Z1\n",
    "print Z2"
   ]
  },
  {
   "cell_type": "code",
   "execution_count": null,
   "metadata": {
    "collapsed": true
   },
   "outputs": [],
   "source": []
  },
  {
   "cell_type": "code",
   "execution_count": null,
   "metadata": {
    "collapsed": true
   },
   "outputs": [],
   "source": []
  }
 ],
 "metadata": {
  "kernelspec": {
   "display_name": "Python 2",
   "language": "python",
   "name": "python2"
  },
  "language_info": {
   "codemirror_mode": {
    "name": "ipython",
    "version": 2
   },
   "file_extension": ".py",
   "mimetype": "text/x-python",
   "name": "python",
   "nbconvert_exporter": "python",
   "pygments_lexer": "ipython2",
   "version": "2.7.11"
  }
 },
 "nbformat": 4,
 "nbformat_minor": 0
}
